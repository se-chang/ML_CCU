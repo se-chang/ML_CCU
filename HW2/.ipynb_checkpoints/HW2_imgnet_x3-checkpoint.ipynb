{
 "cells": [
  {
   "cell_type": "code",
   "execution_count": 1,
   "metadata": {},
   "outputs": [
    {
     "name": "stderr",
     "output_type": "stream",
     "text": [
      "C:\\Users\\s110024\\AppData\\Local\\conda\\conda\\envs\\ML2018\\lib\\site-packages\\h5py\\__init__.py:36: FutureWarning: Conversion of the second argument of issubdtype from `float` to `np.floating` is deprecated. In future, it will be treated as `np.float64 == np.dtype(float).type`.\n",
      "  from ._conv import register_converters as _register_converters\n",
      "Using TensorFlow backend.\n"
     ]
    },
    {
     "name": "stdout",
     "output_type": "stream",
     "text": [
      "WARNING:tensorflow:From C:\\Users\\s110024\\AppData\\Local\\conda\\conda\\envs\\ML2018\\lib\\site-packages\\tensorflow\\contrib\\learn\\python\\learn\\datasets\\base.py:198: retry (from tensorflow.contrib.learn.python.learn.datasets.base) is deprecated and will be removed in a future version.\n",
      "Instructions for updating:\n",
      "Use the retry module or similar alternatives.\n",
      "curses is not supported on this machine (please install/reinstall curses for an optimal experience)\n"
     ]
    }
   ],
   "source": [
    "import tensorflow as tf\n",
    "import keras.backend.tensorflow_backend as KTF\n",
    "import os\n",
    "import warnings\n",
    "import os, sys\n",
    "import numpy as np\n",
    "import keras\n",
    "import cv2\n",
    "from skimage import io,transform\n",
    "from tflearn.layers.conv import global_avg_pool\n",
    "from keras.models import Model\n",
    "from keras.layers import Input, Dense, Activation, Flatten, Conv2D, MaxPooling2D, AveragePooling2D\n",
    "from keras.layers import GlobalAveragePooling2D, GlobalMaxPooling2D, BatchNormalization\n",
    "from keras.models import Model\n",
    "from keras import layers\n",
    "from keras import backend as K\n",
    "from keras.utils import np_utils\n",
    "from keras.optimizers import SGD\n",
    "from keras.callbacks import Callback\n",
    "from keras.applications.vgg16 import VGG16"
   ]
  },
  {
   "cell_type": "code",
   "execution_count": 2,
   "metadata": {},
   "outputs": [],
   "source": [
    "def loading(dirs = os.getcwd()):\n",
    "\n",
    "    trainMatrix = []\n",
    "    trainLabel = []\n",
    "    testMatrix = []\n",
    "    testLabel = []\n",
    "    countOfPeople = 0\n",
    "    for i in range(1, 40):\n",
    "        if i == 14:\n",
    "            continue\n",
    "        file = os.path.join(dirs, 'CroppedYale', 'yaleB%02d' % i, '*.pgm')\n",
    "    \n",
    "        rawImg = io.imread_collection(file)\n",
    "        \n",
    "        imgs = np.array([cv2.resize(img, (224,224), interpolation = cv2.INTER_CUBIC) for img in rawImg])\n",
    "        imgs = np.array(imgs, dtype=np.int64)\n",
    "        \n",
    "        rimgs = np.random.permutation(imgs)\n",
    "        rimgs = np.array(rimgs)\n",
    "        \n",
    "        countOfPeople = len(rimgs)\n",
    "        \n",
    "        train = rimgs[0:35]\n",
    "        trainMatrix.append(train)\n",
    "        for j in range(0, 35): trainLabel.append(i)\n",
    "            \n",
    "        test = rimgs[countOfPeople-30:countOfPeople]\n",
    "        testMatrix.append(test)\n",
    "        for j in range(0, 30): testLabel.append(i) \n",
    "\n",
    "        \n",
    "    return trainMatrix, trainLabel, testMatrix, testLabel"
   ]
  },
  {
   "cell_type": "code",
   "execution_count": 3,
   "metadata": {
    "scrolled": true
   },
   "outputs": [
    {
     "name": "stdout",
     "output_type": "stream",
     "text": [
      "TrainCount: 1330\n",
      "TestCount: 1140\n"
     ]
    }
   ],
   "source": [
    "trainMatrix, trainLabel, testMatrix, testLabel = loading(os.getcwd())\n",
    "\n",
    "\n",
    "trainCount = np.size(trainLabel, 0)\n",
    "testCount = np.size(testLabel, 0)\n",
    "\n",
    "trainMatrix = np.array(trainMatrix).reshape(trainCount,224,224,1)\n",
    "\n",
    "# change one channel to three\n",
    "original = trainMatrix\n",
    "trainMatrix = np.resize(trainMatrix,(trainCount,224,224,3))\n",
    "trainMatrix[:,:,:,0:1] = original\n",
    "trainMatrix[:,:,:,1:2] = original     \n",
    "trainMatrix[:,:,:,2:3] = original\n",
    "\n",
    "testMatrix = np.array(testMatrix).reshape(testCount,224,224,1)\n",
    "\n",
    "# change one channel to three\n",
    "original = testMatrix\n",
    "testMatrix = np.resize(testMatrix,(testCount,224,224,3))\n",
    "testMatrix[:,:,:,0:1] = original\n",
    "testMatrix[:,:,:,1:2] = original\n",
    "testMatrix[:,:,:,2:3] = original\n",
    "\n",
    "print(\"TrainCount: %d\" % trainCount)\n",
    "print(\"TestCount: %d\" % testCount)"
   ]
  },
  {
   "cell_type": "code",
   "execution_count": 4,
   "metadata": {},
   "outputs": [
    {
     "name": "stdout",
     "output_type": "stream",
     "text": [
      "(1330, 40)\n"
     ]
    }
   ],
   "source": [
    "trainLabel_encode = np_utils.to_categorical(trainLabel, num_classes=40)\n",
    "testLabel_encode = np_utils.to_categorical(testLabel, num_classes=40)\n",
    "print(trainLabel_encode.shape)"
   ]
  },
  {
   "cell_type": "code",
   "execution_count": 6,
   "metadata": {
    "scrolled": true
   },
   "outputs": [
    {
     "name": "stdout",
     "output_type": "stream",
     "text": [
      "Train on 1330 samples, validate on 1140 samples\n",
      "Epoch 1/50\n",
      "1330/1330 [==============================] - 64s 48ms/step - loss: 5.2367 - acc: 0.0541 - val_loss: 3.6275 - val_acc: 0.0912\n",
      "Epoch 2/50\n",
      "1330/1330 [==============================] - 49s 37ms/step - loss: 3.2481 - acc: 0.1699 - val_loss: 3.1051 - val_acc: 0.2219\n",
      "Epoch 3/50\n",
      "1330/1330 [==============================] - 49s 37ms/step - loss: 2.5846 - acc: 0.3429 - val_loss: 2.5543 - val_acc: 0.3781\n",
      "Epoch 4/50\n",
      "1330/1330 [==============================] - 50s 37ms/step - loss: 1.9267 - acc: 0.5331 - val_loss: 2.0611 - val_acc: 0.5053\n",
      "Epoch 5/50\n",
      "1330/1330 [==============================] - 49s 37ms/step - loss: 1.3846 - acc: 0.6729 - val_loss: 1.6873 - val_acc: 0.6000\n",
      "Epoch 6/50\n",
      "1330/1330 [==============================] - 49s 37ms/step - loss: 0.9902 - acc: 0.7842 - val_loss: 1.4423 - val_acc: 0.6640\n",
      "Epoch 7/50\n",
      "1330/1330 [==============================] - 49s 37ms/step - loss: 0.7249 - acc: 0.8376 - val_loss: 1.3036 - val_acc: 0.6904\n",
      "Epoch 8/50\n",
      "1330/1330 [==============================] - 49s 37ms/step - loss: 0.5487 - acc: 0.8759 - val_loss: 1.1705 - val_acc: 0.7307\n",
      "Epoch 9/50\n",
      "1330/1330 [==============================] - 49s 37ms/step - loss: 0.4223 - acc: 0.9158 - val_loss: 1.0740 - val_acc: 0.7474\n",
      "Epoch 10/50\n",
      "1330/1330 [==============================] - 49s 37ms/step - loss: 0.3284 - acc: 0.9421 - val_loss: 1.0162 - val_acc: 0.7658\n",
      "Epoch 11/50\n",
      "1330/1330 [==============================] - 49s 37ms/step - loss: 0.2609 - acc: 0.9556 - val_loss: 0.9985 - val_acc: 0.7754\n",
      "Epoch 12/50\n",
      "1330/1330 [==============================] - 49s 37ms/step - loss: 0.2104 - acc: 0.9654 - val_loss: 0.9749 - val_acc: 0.7842\n",
      "Epoch 13/50\n",
      "1330/1330 [==============================] - 49s 37ms/step - loss: 0.1718 - acc: 0.9767 - val_loss: 0.9611 - val_acc: 0.7921\n",
      "Epoch 14/50\n",
      "1330/1330 [==============================] - 49s 37ms/step - loss: 0.1431 - acc: 0.9850 - val_loss: 0.9504 - val_acc: 0.7982\n",
      "Epoch 15/50\n",
      "1330/1330 [==============================] - 50s 37ms/step - loss: 0.1211 - acc: 0.9887 - val_loss: 0.9729 - val_acc: 0.7895\n",
      "Epoch 16/50\n",
      "1330/1330 [==============================] - 73s 55ms/step - loss: 0.1053 - acc: 0.9910 - val_loss: 0.9496 - val_acc: 0.8026\n",
      "Epoch 17/50\n",
      "1330/1330 [==============================] - 50s 37ms/step - loss: 0.0928 - acc: 0.9910 - val_loss: 0.9466 - val_acc: 0.8053\n",
      "Epoch 18/50\n",
      "1330/1330 [==============================] - 50s 37ms/step - loss: 0.0830 - acc: 0.9925 - val_loss: 0.9618 - val_acc: 0.8044\n",
      "Epoch 19/50\n",
      "1330/1330 [==============================] - 49s 37ms/step - loss: 0.0758 - acc: 0.9925 - val_loss: 0.9500 - val_acc: 0.8035\n",
      "Epoch 20/50\n",
      "1330/1330 [==============================] - 49s 37ms/step - loss: 0.0702 - acc: 0.9925 - val_loss: 0.9527 - val_acc: 0.8035\n",
      "Epoch 21/50\n",
      "1330/1330 [==============================] - 49s 37ms/step - loss: 0.0657 - acc: 0.9925 - val_loss: 0.9487 - val_acc: 0.8053\n",
      "Epoch 22/50\n",
      "1330/1330 [==============================] - 49s 37ms/step - loss: 0.0620 - acc: 0.9925 - val_loss: 0.9539 - val_acc: 0.8088\n",
      "Epoch 23/50\n",
      "1330/1330 [==============================] - 49s 37ms/step - loss: 0.0590 - acc: 0.9925 - val_loss: 0.9560 - val_acc: 0.8079\n",
      "Epoch 24/50\n",
      "1330/1330 [==============================] - 49s 37ms/step - loss: 0.0564 - acc: 0.9925 - val_loss: 0.9559 - val_acc: 0.8096\n",
      "Epoch 25/50\n",
      "1330/1330 [==============================] - 49s 37ms/step - loss: 0.0542 - acc: 0.9925 - val_loss: 0.9615 - val_acc: 0.8114\n",
      "Epoch 26/50\n",
      "1330/1330 [==============================] - 49s 37ms/step - loss: 0.0523 - acc: 0.9925 - val_loss: 0.9687 - val_acc: 0.8123\n",
      "Epoch 27/50\n",
      "1330/1330 [==============================] - 49s 37ms/step - loss: 0.0506 - acc: 0.9925 - val_loss: 0.9698 - val_acc: 0.8132\n",
      "Epoch 28/50\n",
      "1330/1330 [==============================] - 49s 37ms/step - loss: 0.0491 - acc: 0.9925 - val_loss: 0.9688 - val_acc: 0.8132\n",
      "Epoch 29/50\n",
      "1330/1330 [==============================] - 49s 37ms/step - loss: 0.0477 - acc: 0.9925 - val_loss: 0.9750 - val_acc: 0.8149\n",
      "Epoch 30/50\n",
      "1330/1330 [==============================] - 49s 37ms/step - loss: 0.0465 - acc: 0.9925 - val_loss: 0.9780 - val_acc: 0.8140\n",
      "Epoch 31/50\n",
      "1330/1330 [==============================] - 49s 37ms/step - loss: 0.0454 - acc: 0.9932 - val_loss: 0.9827 - val_acc: 0.8149\n",
      "Epoch 32/50\n",
      "1330/1330 [==============================] - 49s 37ms/step - loss: 0.0443 - acc: 0.9940 - val_loss: 0.9824 - val_acc: 0.8158\n",
      "Epoch 33/50\n",
      "1330/1330 [==============================] - 49s 37ms/step - loss: 0.0433 - acc: 0.9940 - val_loss: 0.9812 - val_acc: 0.8167\n",
      "Epoch 34/50\n",
      "1330/1330 [==============================] - 49s 37ms/step - loss: 0.0425 - acc: 0.9940 - val_loss: 0.9924 - val_acc: 0.8184\n",
      "Epoch 35/50\n",
      "1330/1330 [==============================] - 49s 37ms/step - loss: 0.0415 - acc: 0.9940 - val_loss: 0.9881 - val_acc: 0.8167\n",
      "Epoch 36/50\n",
      "1330/1330 [==============================] - 49s 37ms/step - loss: 0.0408 - acc: 0.9947 - val_loss: 0.9908 - val_acc: 0.8167\n",
      "Epoch 37/50\n",
      "1330/1330 [==============================] - 49s 37ms/step - loss: 0.0400 - acc: 0.9947 - val_loss: 0.9990 - val_acc: 0.8175\n",
      "Epoch 38/50\n",
      "1330/1330 [==============================] - 49s 37ms/step - loss: 0.0392 - acc: 0.9947 - val_loss: 0.9961 - val_acc: 0.8193\n",
      "Epoch 39/50\n",
      "1330/1330 [==============================] - 49s 37ms/step - loss: 0.0386 - acc: 0.9947 - val_loss: 1.0003 - val_acc: 0.8184\n",
      "Epoch 40/50\n",
      "1330/1330 [==============================] - 49s 37ms/step - loss: 0.0380 - acc: 0.9947 - val_loss: 1.0043 - val_acc: 0.8193\n",
      "Epoch 41/50\n",
      "1330/1330 [==============================] - 49s 37ms/step - loss: 0.0374 - acc: 0.9947 - val_loss: 1.0065 - val_acc: 0.8193\n",
      "Epoch 42/50\n",
      "1330/1330 [==============================] - 49s 37ms/step - loss: 0.0368 - acc: 0.9955 - val_loss: 1.0077 - val_acc: 0.8167\n",
      "Epoch 43/50\n",
      "1330/1330 [==============================] - 49s 37ms/step - loss: 0.0363 - acc: 0.9955 - val_loss: 1.0128 - val_acc: 0.8193\n",
      "Epoch 44/50\n",
      "1330/1330 [==============================] - 49s 37ms/step - loss: 0.0358 - acc: 0.9955 - val_loss: 1.0096 - val_acc: 0.8202\n",
      "Epoch 45/50\n",
      "1330/1330 [==============================] - 49s 37ms/step - loss: 0.0353 - acc: 0.9955 - val_loss: 1.0119 - val_acc: 0.8193\n",
      "Epoch 46/50\n",
      "1330/1330 [==============================] - 49s 37ms/step - loss: 0.0348 - acc: 0.9955 - val_loss: 1.0202 - val_acc: 0.8193\n",
      "Epoch 47/50\n",
      "1330/1330 [==============================] - 49s 37ms/step - loss: 0.0344 - acc: 0.9962 - val_loss: 1.0215 - val_acc: 0.8193\n",
      "Epoch 48/50\n",
      "1330/1330 [==============================] - 49s 37ms/step - loss: 0.0340 - acc: 0.9962 - val_loss: 1.0241 - val_acc: 0.8193\n",
      "Epoch 49/50\n",
      "1330/1330 [==============================] - 49s 37ms/step - loss: 0.0335 - acc: 0.9962 - val_loss: 1.0242 - val_acc: 0.8193\n",
      "Epoch 50/50\n",
      "1330/1330 [==============================] - 49s 37ms/step - loss: 0.0331 - acc: 0.9962 - val_loss: 1.0288 - val_acc: 0.8202\n"
     ]
    }
   ],
   "source": [
    "vgg = VGG16(weights='imagenet', include_top=False, input_shape=(224, 224, 3))\n",
    "x = vgg.output\n",
    "x = Flatten()(x)\n",
    "x = Dense(40, activation='softmax')(x)\n",
    "\n",
    "model = Model(inputs=vgg.input, outputs=x)\n",
    "\n",
    "sgd = SGD(lr=0.0001, nesterov=True)\n",
    "model.compile(loss='categorical_crossentropy', optimizer=sgd, metrics=['accuracy'])\n",
    "history = model.fit(trainMatrix, trainLabel_encode, epochs=50, batch_size=32, \n",
    "                    validation_data=(testMatrix, testLabel_encode), verbose=1)"
   ]
  },
  {
   "cell_type": "code",
   "execution_count": 7,
   "metadata": {},
   "outputs": [
    {
     "data": {
      "image/png": "[encoded data removed]",
      "text/plain": [
       "<Figure size 432x288 with 1 Axes>"
      ]
     },
     "metadata": {},
     "output_type": "display_data"
    }
   ],
   "source": [
    "import matplotlib.pyplot as plt\n",
    "\n",
    "plt.plot(history.history['acc'], 'g', label='train_acc')\n",
    "plt.plot(history.history['val_acc'], 'b', label='val_acc')\n",
    "plt.legend(loc='upper right')\n",
    "plt.title('model accuracy')\n",
    "plt.xlabel('epoch')\n",
    "plt.show()"
   ]
  },
  {
   "cell_type": "code",
   "execution_count": 8,
   "metadata": {},
   "outputs": [
    {
     "data": {
      "image/png": "[encoded data removed]",
      "text/plain": [
       "<Figure size 432x288 with 1 Axes>"
      ]
     },
     "metadata": {},
     "output_type": "display_data"
    }
   ],
   "source": [
    "plt.plot(history.history['loss'], 'g', label='train_loss')\n",
    "plt.plot(history.history['val_loss'], 'b', label='val_loss')\n",
    "plt.legend(loc='upper right')\n",
    "plt.title('model loss')\n",
    "plt.xlabel('epoch')\n",
    "plt.show()"
   ]
  },
  {
   "cell_type": "code",
   "execution_count": 9,
   "metadata": {},
   "outputs": [
    {
     "name": "stdout",
     "output_type": "stream",
     "text": [
      "1140/1140 [==============================] - 12s 10ms/step\n",
      "loss :  1.0287599108721082\n",
      "accuracy :  0.820175438178213\n"
     ]
    }
   ],
   "source": [
    "loss, acc = model.evaluate(x = testMatrix, y = testLabel_encode, batch_size = 32)\n",
    "print(\"loss : \", loss)\n",
    "print(\"accuracy : \", acc)"
   ]
  },
  {
   "cell_type": "code",
   "execution_count": null,
   "metadata": {},
   "outputs": [],
   "source": []
  }
 ],
 "metadata": {
  "kernelspec": {
   "display_name": "Python 3",
   "language": "python",
   "name": "python3"
  },
  "language_info": {
   "codemirror_mode": {
    "name": "ipython",
    "version": 3
   },
   "file_extension": ".py",
   "mimetype": "text/x-python",
   "name": "python",
   "nbconvert_exporter": "python",
   "pygments_lexer": "ipython3",
   "version": "3.6.5"
  }
 },
 "nbformat": 4,
 "nbformat_minor": 2
}
