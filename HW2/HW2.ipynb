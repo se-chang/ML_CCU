{
 "cells": [
  {
   "cell_type": "code",
   "execution_count": 1,
   "metadata": {},
   "outputs": [
    {
     "name": "stderr",
     "output_type": "stream",
     "text": [
      "C:\\Users\\s110024\\AppData\\Local\\conda\\conda\\envs\\ML2018\\lib\\site-packages\\h5py\\__init__.py:36: FutureWarning: Conversion of the second argument of issubdtype from `float` to `np.floating` is deprecated. In future, it will be treated as `np.float64 == np.dtype(float).type`.\n",
      "  from ._conv import register_converters as _register_converters\n",
      "Using TensorFlow backend.\n"
     ]
    },
    {
     "name": "stdout",
     "output_type": "stream",
     "text": [
      "WARNING:tensorflow:From C:\\Users\\s110024\\AppData\\Local\\conda\\conda\\envs\\ML2018\\lib\\site-packages\\tensorflow\\contrib\\learn\\python\\learn\\datasets\\base.py:198: retry (from tensorflow.contrib.learn.python.learn.datasets.base) is deprecated and will be removed in a future version.\n",
      "Instructions for updating:\n",
      "Use the retry module or similar alternatives.\n",
      "curses is not supported on this machine (please install/reinstall curses for an optimal experience)\n"
     ]
    }
   ],
   "source": [
    "import tensorflow as tf\n",
    "import keras.backend.tensorflow_backend as KTF\n",
    "import os\n",
    "import warnings\n",
    "import os, sys\n",
    "import numpy as np\n",
    "import keras\n",
    "import cv2\n",
    "from skimage import io,transform\n",
    "from tflearn.layers.conv import global_avg_pool\n",
    "from keras.models import Model\n",
    "from keras.layers import Input, Dense, Activation, Flatten, Conv2D, MaxPooling2D, AveragePooling2D\n",
    "from keras.layers import GlobalAveragePooling2D, GlobalMaxPooling2D, BatchNormalization\n",
    "from keras.models import Model\n",
    "from keras import layers\n",
    "from keras import backend as K\n",
    "from keras.utils import np_utils\n",
    "from keras.optimizers import SGD\n",
    "from keras.callbacks import Callback"
   ]
  },
  {
   "cell_type": "code",
   "execution_count": 2,
   "metadata": {},
   "outputs": [],
   "source": [
    "def VGG16(input_tensor=None, input_shape=None):\n",
    "\n",
    "    img_input = Input(shape=input_shape)\n",
    "\n",
    "    # Block 1\n",
    "    x = Conv2D(64, (3, 3), activation='relu', padding='same', name='block1_conv1')(img_input)\n",
    "    x = Conv2D(64, (3, 3), activation='relu', padding='same', name='block1_conv2')(x)\n",
    "    x = MaxPooling2D((2, 2), strides=(2, 2), name='block1_pool')(x)\n",
    "\n",
    "    # Block 2\n",
    "    x = Conv2D(128, (3, 3), activation='relu', padding='same', name='block2_conv1')(x)\n",
    "    x = Conv2D(128, (3, 3), activation='relu', padding='same', name='block2_conv2')(x)\n",
    "    x = MaxPooling2D((2, 2), strides=(2, 2), name='block2_pool')(x)\n",
    "\n",
    "    # Block 3\n",
    "    x = Conv2D(256, (3, 3), activation='relu', padding='same', name='block3_conv1')(x)\n",
    "    x = Conv2D(256, (3, 3), activation='relu', padding='same', name='block3_conv2')(x)\n",
    "    x = Conv2D(256, (3, 3), activation='relu', padding='same', name='block3_conv3')(x)\n",
    "    x = MaxPooling2D((2, 2), strides=(2, 2), name='block3_pool')(x)\n",
    "\n",
    "    # Block 4\n",
    "    x = Conv2D(512, (3, 3), activation='relu', padding='same', name='block4_conv1')(x)\n",
    "    x = Conv2D(512, (3, 3), activation='relu', padding='same', name='block4_conv2')(x)\n",
    "    x = Conv2D(512, (3, 3), activation='relu', padding='same', name='block4_conv3')(x)\n",
    "    x = MaxPooling2D((2, 2), strides=(2, 2), name='block4_pool')(x)\n",
    "\n",
    "    # Block 5\n",
    "    x = Conv2D(512, (3, 3), activation='relu', padding='same', name='block5_conv1')(x)\n",
    "    x = Conv2D(512, (3, 3), activation='relu', padding='same', name='block5_conv2')(x)\n",
    "    x = Conv2D(512, (3, 3), activation='relu', padding='same', name='block5_conv3')(x)\n",
    "    x = MaxPooling2D((2, 2), strides=(2, 2), name='block5_pool')(x)\n",
    "\n",
    "\n",
    "    # Classification block\n",
    "    x = Flatten(name='flatten')(x)\n",
    "    #x = Dense(4096, activation='relu', name='fca')(x)\n",
    "    x = Dense(4096, activation='relu', name='fcb')(x)\n",
    "    x = Dense(40, activation='softmax', name='Classification')(x)\n",
    "\n",
    "    inputs = img_input\n",
    "    # Create model.\n",
    "    model = Model(inputs, x, name='vgg16')\n",
    "\n",
    "    return model"
   ]
  },
  {
   "cell_type": "code",
   "execution_count": 3,
   "metadata": {},
   "outputs": [],
   "source": [
    "def loading(dirs = os.getcwd()):\n",
    "\n",
    "    trainMatrix = []\n",
    "    trainLabel = []\n",
    "    testMatrix = []\n",
    "    testLabel = []\n",
    "    countOfPeople = 0\n",
    "    for i in range(1, 40):\n",
    "        if i == 14:\n",
    "            continue\n",
    "        file = os.path.join(dirs, 'CroppedYale', 'yaleB%02d' % i, '*.pgm')\n",
    "        rawImg = io.imread_collection(file)\n",
    "        \n",
    "        imgs = np.array([cv2.resize(img, (224,224), interpolation = cv2.INTER_CUBIC) for img in rawImg])\n",
    "        imgs = np.array(imgs, dtype=np.int64)\n",
    "        \n",
    "        countOfPeople = len(imgs)\n",
    "        #print(countOfPeople)\n",
    "        \n",
    "        train = imgs[0:35]\n",
    "        trainMatrix.append(train)\n",
    "        for j in range(0, 35): trainLabel.append(i)\n",
    "            \n",
    "        \n",
    "        \n",
    "        test = imgs[countOfPeople-30:countOfPeople]\n",
    "        testMatrix.append(test)\n",
    "        for j in range(0, 30): testLabel.append(i) \n",
    "            \n",
    "            \n",
    "        \n",
    "        \n",
    "\n",
    "        \n",
    "    return trainMatrix, trainLabel, testMatrix, testLabel"
   ]
  },
  {
   "cell_type": "code",
   "execution_count": 4,
   "metadata": {
    "scrolled": true
   },
   "outputs": [
    {
     "name": "stdout",
     "output_type": "stream",
     "text": [
      "TrainCount: 1330\n",
      "TestCount: 1140\n",
      "\n"
     ]
    }
   ],
   "source": [
    "trainMatrix, trainLabel, testMatrix, testLabel = loading(os.getcwd())\n",
    "\n",
    "\n",
    "trainCount = np.size(trainLabel, 0)\n",
    "testCount = np.size(testLabel, 0)\n",
    "\n",
    "\n",
    "\n",
    "trainMatrix = np.array(trainMatrix).reshape(trainCount,224,224,1)\n",
    "testMatrix = np.array(testMatrix).reshape(testCount,224,224,1)\n",
    "\n",
    "print(\"TrainCount: %d\" % trainCount)\n",
    "print(\"TestCount: %d\\n\" % testCount)"
   ]
  },
  {
   "cell_type": "code",
   "execution_count": 5,
   "metadata": {},
   "outputs": [
    {
     "name": "stdout",
     "output_type": "stream",
     "text": [
      "[[0. 1. 0. ... 0. 0. 0.]\n",
      " [0. 1. 0. ... 0. 0. 0.]\n",
      " [0. 1. 0. ... 0. 0. 0.]\n",
      " ...\n",
      " [0. 0. 0. ... 0. 0. 1.]\n",
      " [0. 0. 0. ... 0. 0. 1.]\n",
      " [0. 0. 0. ... 0. 0. 1.]]\n"
     ]
    }
   ],
   "source": [
    "trainLabel_encode = np_utils.to_categorical(trainLabel, num_classes=40)\n",
    "testLabel_encode = np_utils.to_categorical(testLabel, num_classes=40)\n",
    "print(trainLabel_encode)"
   ]
  },
  {
   "cell_type": "code",
   "execution_count": 6,
   "metadata": {},
   "outputs": [],
   "source": [
    "class TestCallback(Callback):\n",
    "    def __init__(self, test_data):\n",
    "        self.test_data = test_data\n",
    "\n",
    "    def on_epoch_end(self, epoch, logs={}):\n",
    "        x, y = self.test_data\n",
    "        loss, acc = self.model.evaluate(x, y, verbose=1)\n",
    "        print('Testing loss: %.4f, acc: %.4f\\n' %(loss, acc))"
   ]
  },
  {
   "cell_type": "code",
   "execution_count": 7,
   "metadata": {
    "scrolled": false
   },
   "outputs": [
    {
     "name": "stdout",
     "output_type": "stream",
     "text": [
      "WARNING:tensorflow:Variable *= will be deprecated. Use variable.assign_mul if you want assignment to the variable value or 'x = x * y' if you want a new python Tensor object.\n",
      "Epoch 1/30\n",
      "1330/1330 [==============================] - 55s 41ms/step - loss: 3.6839 - acc: 0.0218\n",
      "1140/1140 [==============================] - 12s 11ms/step\n",
      "Testing loss: 3.6774, acc: 0.0298\n",
      "\n",
      "Epoch 2/30\n",
      "1330/1330 [==============================] - 40s 30ms/step - loss: 3.6300 - acc: 0.0459\n",
      "1140/1140 [==============================] - 11s 9ms/step\n",
      "Testing loss: 3.6547, acc: 0.0325\n",
      "\n",
      "Epoch 3/30\n",
      "1330/1330 [==============================] - 40s 30ms/step - loss: 3.5736 - acc: 0.0504\n",
      "1140/1140 [==============================] - 10s 9ms/step\n",
      "Testing loss: 3.6416, acc: 0.0728\n",
      "\n",
      "Epoch 4/30\n",
      "1330/1330 [==============================] - 40s 30ms/step - loss: 3.4665 - acc: 0.0977\n",
      "1140/1140 [==============================] - 11s 9ms/step\n",
      "Testing loss: 3.6701, acc: 0.0728\n",
      "\n",
      "Epoch 5/30\n",
      "1330/1330 [==============================] - 39s 30ms/step - loss: 3.1758 - acc: 0.1789\n",
      "1140/1140 [==============================] - 10s 9ms/step\n",
      "Testing loss: 3.8413, acc: 0.0798\n",
      "\n",
      "Epoch 6/30\n",
      "1330/1330 [==============================] - 39s 30ms/step - loss: 2.5167 - acc: 0.3421\n",
      "1140/1140 [==============================] - 10s 9ms/step\n",
      "Testing loss: 3.5797, acc: 0.2342\n",
      "\n",
      "Epoch 7/30\n",
      "1330/1330 [==============================] - 39s 30ms/step - loss: 1.4649 - acc: 0.6120\n",
      "1140/1140 [==============================] - 11s 9ms/step\n",
      "Testing loss: 4.0859, acc: 0.3035\n",
      "\n",
      "Epoch 8/30\n",
      "1330/1330 [==============================] - 39s 30ms/step - loss: 1.0629 - acc: 0.7662\n",
      "1140/1140 [==============================] - 10s 9ms/step\n",
      "Testing loss: 4.6051, acc: 0.3202\n",
      "\n",
      "Epoch 9/30\n",
      "1330/1330 [==============================] - 39s 30ms/step - loss: 0.9150 - acc: 0.8316\n",
      "1140/1140 [==============================] - 10s 9ms/step\n",
      "Testing loss: 4.9763, acc: 0.2825\n",
      "\n",
      "Epoch 10/30\n",
      "1330/1330 [==============================] - 39s 30ms/step - loss: 0.6980 - acc: 0.9030\n",
      "1140/1140 [==============================] - 10s 9ms/step\n",
      "Testing loss: 5.4616, acc: 0.3474\n",
      "\n",
      "Epoch 11/30\n",
      "1330/1330 [==============================] - 39s 30ms/step - loss: 0.5047 - acc: 0.9098\n",
      "1140/1140 [==============================] - 11s 9ms/step\n",
      "Testing loss: 4.9460, acc: 0.3860\n",
      "\n",
      "Epoch 12/30\n",
      "1330/1330 [==============================] - 39s 30ms/step - loss: 0.3158 - acc: 0.9218\n",
      "1140/1140 [==============================] - 11s 9ms/step\n",
      "Testing loss: 5.3542, acc: 0.3342\n",
      "\n",
      "Epoch 13/30\n",
      "1330/1330 [==============================] - 39s 30ms/step - loss: 0.1524 - acc: 0.9669\n",
      "1140/1140 [==============================] - 11s 9ms/step\n",
      "Testing loss: 5.1908, acc: 0.4368\n",
      "\n",
      "Epoch 14/30\n",
      "1330/1330 [==============================] - 39s 30ms/step - loss: 0.1353 - acc: 0.9677\n",
      "1140/1140 [==============================] - 10s 9ms/step\n",
      "Testing loss: 5.2964, acc: 0.4219\n",
      "\n",
      "Epoch 15/30\n",
      "1330/1330 [==============================] - 39s 30ms/step - loss: 0.1324 - acc: 0.9782\n",
      "1140/1140 [==============================] - 10s 9ms/step\n",
      "Testing loss: 5.2998, acc: 0.4325\n",
      "\n",
      "Epoch 16/30\n",
      "1330/1330 [==============================] - 39s 30ms/step - loss: 0.0599 - acc: 0.9872\n",
      "1140/1140 [==============================] - 10s 9ms/step\n",
      "Testing loss: 6.0490, acc: 0.4123\n",
      "\n",
      "Epoch 17/30\n",
      "1330/1330 [==============================] - 39s 30ms/step - loss: 0.0887 - acc: 0.9850\n",
      "1140/1140 [==============================] - 10s 9ms/step\n",
      "Testing loss: 6.4962, acc: 0.3789\n",
      "\n",
      "Epoch 18/30\n",
      "1330/1330 [==============================] - 39s 30ms/step - loss: 0.1218 - acc: 0.9737\n",
      "1140/1140 [==============================] - 11s 9ms/step\n",
      "Testing loss: 5.3715, acc: 0.4333\n",
      "\n",
      "Epoch 19/30\n",
      "1330/1330 [==============================] - 39s 30ms/step - loss: 0.1457 - acc: 0.9609\n",
      "1140/1140 [==============================] - 10s 9ms/step\n",
      "Testing loss: 5.4670, acc: 0.4360\n",
      "\n",
      "Epoch 20/30\n",
      "1330/1330 [==============================] - 39s 30ms/step - loss: 0.0591 - acc: 0.9895\n",
      "1140/1140 [==============================] - 11s 9ms/step\n",
      "Testing loss: 6.1886, acc: 0.4140\n",
      "\n",
      "Epoch 21/30\n",
      "1330/1330 [==============================] - 39s 30ms/step - loss: 0.0365 - acc: 0.9932\n",
      "1140/1140 [==============================] - 11s 9ms/step\n",
      "Testing loss: 6.2022, acc: 0.4263\n",
      "\n",
      "Epoch 22/30\n",
      "1330/1330 [==============================] - 39s 30ms/step - loss: 0.0316 - acc: 0.9947\n",
      "1140/1140 [==============================] - 10s 9ms/step\n",
      "Testing loss: 6.1655, acc: 0.4465\n",
      "\n",
      "Epoch 23/30\n",
      "1330/1330 [==============================] - 39s 30ms/step - loss: 0.0295 - acc: 0.9947\n",
      "1140/1140 [==============================] - 11s 9ms/step\n",
      "Testing loss: 6.2616, acc: 0.4439\n",
      "\n",
      "Epoch 24/30\n",
      "1330/1330 [==============================] - 39s 30ms/step - loss: 0.0279 - acc: 0.9955\n",
      "1140/1140 [==============================] - 10s 9ms/step\n",
      "Testing loss: 6.3829, acc: 0.4377\n",
      "\n",
      "Epoch 25/30\n",
      "1330/1330 [==============================] - 39s 30ms/step - loss: 0.0268 - acc: 0.9962\n",
      "1140/1140 [==============================] - 10s 9ms/step\n",
      "Testing loss: 6.5005, acc: 0.4316\n",
      "\n",
      "Epoch 26/30\n",
      "1330/1330 [==============================] - 39s 30ms/step - loss: 0.0260 - acc: 0.9962\n",
      "1140/1140 [==============================] - 10s 9ms/step\n",
      "Testing loss: 6.5911, acc: 0.4289\n",
      "\n",
      "Epoch 27/30\n",
      "1330/1330 [==============================] - 39s 30ms/step - loss: 0.0253 - acc: 0.9962\n",
      "1140/1140 [==============================] - 11s 9ms/step\n",
      "Testing loss: 6.7407, acc: 0.4281\n",
      "\n",
      "Epoch 28/30\n",
      "1330/1330 [==============================] - 39s 30ms/step - loss: 0.0248 - acc: 0.9962\n",
      "1140/1140 [==============================] - 10s 9ms/step\n",
      "Testing loss: 6.8744, acc: 0.4211\n",
      "\n",
      "Epoch 29/30\n",
      "1330/1330 [==============================] - 39s 30ms/step - loss: 0.0242 - acc: 0.9962\n",
      "1140/1140 [==============================] - 11s 9ms/step\n",
      "Testing loss: 7.0129, acc: 0.4167\n",
      "\n",
      "Epoch 30/30\n",
      "1330/1330 [==============================] - 39s 30ms/step - loss: 0.0236 - acc: 0.9962\n",
      "1140/1140 [==============================] - 10s 9ms/step\n",
      "Testing loss: 7.0825, acc: 0.4184\n",
      "\n"
     ]
    }
   ],
   "source": [
    "model = VGG16(input_shape=[224, 224, 1])\n",
    "sgd = SGD(lr=0.0001, decay=1e-6, momentum=0.9, nesterov=True)\n",
    "model.compile(loss='categorical_crossentropy', optimizer=sgd, metrics=['accuracy'])\n",
    "history = model.fit(trainMatrix, trainLabel_encode, epochs=30, batch_size=32, \n",
    "                    callbacks=[TestCallback((testMatrix, testLabel_encode))], verbose=1)"
   ]
  },
  {
   "cell_type": "code",
   "execution_count": 8,
   "metadata": {},
   "outputs": [
    {
     "data": {
      "image/png": "[encoded data removed]",
      "text/plain": [
       "<Figure size 432x288 with 1 Axes>"
      ]
     },
     "metadata": {},
     "output_type": "display_data"
    }
   ],
   "source": [
    "import matplotlib.pyplot as plt\n",
    "plt.plot(history.history['acc'], 'g', label='acc')\n",
    "plt.plot(history.history['loss'], 'r', linestyle='--', label='loss')\n",
    "plt.legend(loc='upper right')\n",
    "plt.title('model accuracy')\n",
    "plt.xlabel('epoch')\n",
    "plt.show()"
   ]
  },
  {
   "cell_type": "code",
   "execution_count": 9,
   "metadata": {},
   "outputs": [
    {
     "name": "stdout",
     "output_type": "stream",
     "text": [
      "1140/1140 [==============================] - 10s 9ms/step\n",
      "loss :  7.082463712859572\n",
      "accuracy :  0.4184210527361485\n"
     ]
    }
   ],
   "source": [
    "loss, acc = model.evaluate(x = testMatrix, y = testLabel_encode, batch_size = 32)\n",
    "print(\"loss : \", loss)\n",
    "print(\"accuracy : \", acc)"
   ]
  },
  {
   "cell_type": "code",
   "execution_count": null,
   "metadata": {},
   "outputs": [],
   "source": []
  }
 ],
 "metadata": {
  "kernelspec": {
   "display_name": "Python 3",
   "language": "python",
   "name": "python3"
  },
  "language_info": {
   "codemirror_mode": {
    "name": "ipython",
    "version": 3
   },
   "file_extension": ".py",
   "mimetype": "text/x-python",
   "name": "python",
   "nbconvert_exporter": "python",
   "pygments_lexer": "ipython3",
   "version": "3.6.5"
  }
 },
 "nbformat": 4,
 "nbformat_minor": 2
}
