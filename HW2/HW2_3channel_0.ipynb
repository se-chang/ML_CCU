{
 "cells": [
  {
   "cell_type": "code",
   "execution_count": 1,
   "metadata": {},
   "outputs": [
    {
     "name": "stderr",
     "output_type": "stream",
     "text": [
      "C:\\Users\\s110024\\AppData\\Local\\conda\\conda\\envs\\ML2018\\lib\\site-packages\\h5py\\__init__.py:36: FutureWarning: Conversion of the second argument of issubdtype from `float` to `np.floating` is deprecated. In future, it will be treated as `np.float64 == np.dtype(float).type`.\n",
      "  from ._conv import register_converters as _register_converters\n",
      "Using TensorFlow backend.\n"
     ]
    },
    {
     "name": "stdout",
     "output_type": "stream",
     "text": [
      "WARNING:tensorflow:From C:\\Users\\s110024\\AppData\\Local\\conda\\conda\\envs\\ML2018\\lib\\site-packages\\tensorflow\\contrib\\learn\\python\\learn\\datasets\\base.py:198: retry (from tensorflow.contrib.learn.python.learn.datasets.base) is deprecated and will be removed in a future version.\n",
      "Instructions for updating:\n",
      "Use the retry module or similar alternatives.\n",
      "curses is not supported on this machine (please install/reinstall curses for an optimal experience)\n"
     ]
    }
   ],
   "source": [
    "import tensorflow as tf\n",
    "import keras.backend.tensorflow_backend as KTF\n",
    "import os\n",
    "import warnings\n",
    "import os, sys\n",
    "import numpy as np\n",
    "import keras\n",
    "import cv2\n",
    "from skimage import io,transform\n",
    "from tflearn.layers.conv import global_avg_pool\n",
    "from keras.models import Model\n",
    "from keras.layers import Input, Dense, Activation, Flatten, Conv2D, MaxPooling2D, AveragePooling2D\n",
    "from keras.layers import GlobalAveragePooling2D, GlobalMaxPooling2D, BatchNormalization\n",
    "from keras.models import Model\n",
    "from keras import layers\n",
    "from keras import backend as K\n",
    "from keras.utils import np_utils\n",
    "from keras.optimizers import SGD\n",
    "from keras.callbacks import Callback"
   ]
  },
  {
   "cell_type": "code",
   "execution_count": 2,
   "metadata": {},
   "outputs": [],
   "source": [
    "#进行配置，使用40%的GPU\n",
    "config = tf.ConfigProto()\n",
    "config.gpu_options.per_process_gpu_memory_fraction = 0.3\n",
    "session = tf.Session(config=config)\n",
    "# 设置session\n",
    "KTF.set_session(session )"
   ]
  },
  {
   "cell_type": "code",
   "execution_count": 3,
   "metadata": {},
   "outputs": [],
   "source": [
    "def VGG16(input_tensor=None, input_shape=None):\n",
    "\n",
    "    img_input = Input(shape=input_shape)\n",
    "\n",
    "    # Block 1\n",
    "    x = Conv2D(64, (3, 3), activation='relu', padding='same', name='block1_conv1')(img_input)\n",
    "    x = Conv2D(64, (3, 3), activation='relu', padding='same', name='block1_conv2')(x)\n",
    "    x = MaxPooling2D((2, 2), strides=(2, 2), name='block1_pool')(x)\n",
    "\n",
    "    # Block 2\n",
    "    x = Conv2D(128, (3, 3), activation='relu', padding='same', name='block2_conv1')(x)\n",
    "    x = Conv2D(128, (3, 3), activation='relu', padding='same', name='block2_conv2')(x)\n",
    "    x = MaxPooling2D((2, 2), strides=(2, 2), name='block2_pool')(x)\n",
    "\n",
    "    # Block 3\n",
    "    x = Conv2D(256, (3, 3), activation='relu', padding='same', name='block3_conv1')(x)\n",
    "    x = Conv2D(256, (3, 3), activation='relu', padding='same', name='block3_conv2')(x)\n",
    "    x = Conv2D(256, (3, 3), activation='relu', padding='same', name='block3_conv3')(x)\n",
    "    x = MaxPooling2D((2, 2), strides=(2, 2), name='block3_pool')(x)\n",
    "\n",
    "    # Block 4\n",
    "    x = Conv2D(512, (3, 3), activation='relu', padding='same', name='block4_conv1')(x)\n",
    "    x = Conv2D(512, (3, 3), activation='relu', padding='same', name='block4_conv2')(x)\n",
    "    x = Conv2D(512, (3, 3), activation='relu', padding='same', name='block4_conv3')(x)\n",
    "    x = MaxPooling2D((2, 2), strides=(2, 2), name='block4_pool')(x)\n",
    "\n",
    "    # Block 5\n",
    "    x = Conv2D(512, (3, 3), activation='relu', padding='same', name='block5_conv1')(x)\n",
    "    x = Conv2D(512, (3, 3), activation='relu', padding='same', name='block5_conv2')(x)\n",
    "    x = Conv2D(512, (3, 3), activation='relu', padding='same', name='block5_conv3')(x)\n",
    "    x = MaxPooling2D((2, 2), strides=(2, 2), name='block5_pool')(x)\n",
    "\n",
    "\n",
    "    # Classification block\n",
    "    x = Flatten(name='flatten')(x)\n",
    "    #x = Dense(4096, activation='relu', name='fca')(x)\n",
    "    #x = Dense(4096, activation='relu', name='fcb')(x)\n",
    "    x = Dense(40, activation='softmax', name='Classification')(x)\n",
    "\n",
    "    inputs = img_input\n",
    "    # Create model.\n",
    "    model = Model(inputs, x, name='vgg16')\n",
    "\n",
    "    return model"
   ]
  },
  {
   "cell_type": "code",
   "execution_count": 4,
   "metadata": {},
   "outputs": [],
   "source": [
    "def loading(dirs = os.getcwd()):\n",
    "\n",
    "    trainMatrix = []\n",
    "    trainLabel = []\n",
    "    testMatrix = []\n",
    "    testLabel = []\n",
    "    countOfPeople = 0\n",
    "    for i in range(1, 40):\n",
    "        if i == 14:\n",
    "            continue\n",
    "        file = os.path.join(dirs, 'CroppedYale', 'yaleB%02d' % i, '*.pgm')\n",
    "        rawImg = io.imread_collection(file)\n",
    "        \n",
    "        imgs = np.array([cv2.resize(img, (224,224), interpolation = cv2.INTER_CUBIC) for img in rawImg])\n",
    "        imgs = np.array(imgs, dtype=np.int64)\n",
    "        \n",
    "        countOfPeople = len(imgs)\n",
    "        #print(countOfPeople)\n",
    "        \n",
    "        train = imgs[0:35]\n",
    "        trainMatrix.append(train)\n",
    "        for j in range(0, 35): trainLabel.append(i)\n",
    "            \n",
    "        test = imgs[countOfPeople-30:countOfPeople]\n",
    "        testMatrix.append(test)\n",
    "        for j in range(0, 30): testLabel.append(i) \n",
    "\n",
    "        \n",
    "    return trainMatrix, trainLabel, testMatrix, testLabel"
   ]
  },
  {
   "cell_type": "code",
   "execution_count": 5,
   "metadata": {
    "scrolled": true
   },
   "outputs": [
    {
     "name": "stdout",
     "output_type": "stream",
     "text": [
      "TrainCount: 1330\n",
      "TestCount: 1140\n"
     ]
    }
   ],
   "source": [
    "trainMatrix, trainLabel, testMatrix, testLabel = loading(os.getcwd())\n",
    "\n",
    "\n",
    "trainCount = np.size(trainLabel, 0)\n",
    "testCount = np.size(testLabel, 0)\n",
    "\n",
    "trainMatrix = np.array(trainMatrix).reshape(trainCount,224,224,1)\n",
    "\n",
    "# change one channel to three\n",
    "original = trainMatrix\n",
    "trainMatrix = np.resize(trainMatrix,(trainCount,224,224,3))\n",
    "trainMatrix[:,:,:,0:1] = original\n",
    "trainMatrix[:,:,:,1:3] = 0     #channel two and three = 0\n",
    "\n",
    "\n",
    "testMatrix = np.array(testMatrix).reshape(testCount,224,224,1)\n",
    "\n",
    "# change one channel to three\n",
    "original = testMatrix\n",
    "testMatrix = np.resize(testMatrix,(testCount,224,224,3))\n",
    "testMatrix[:,:,:,0:1] = original\n",
    "testMatrix[:,:,:,1:3] = 0\n",
    "\n",
    "\n",
    "\n",
    "print(\"TrainCount: %d\" % trainCount)\n",
    "print(\"TestCount: %d\" % testCount)"
   ]
  },
  {
   "cell_type": "code",
   "execution_count": 6,
   "metadata": {},
   "outputs": [
    {
     "name": "stdout",
     "output_type": "stream",
     "text": [
      "[[0. 1. 0. ... 0. 0. 0.]\n",
      " [0. 1. 0. ... 0. 0. 0.]\n",
      " [0. 1. 0. ... 0. 0. 0.]\n",
      " ...\n",
      " [0. 0. 0. ... 0. 0. 1.]\n",
      " [0. 0. 0. ... 0. 0. 1.]\n",
      " [0. 0. 0. ... 0. 0. 1.]]\n"
     ]
    }
   ],
   "source": [
    "trainLabel_encode = np_utils.to_categorical(trainLabel, num_classes=40)\n",
    "testLabel_encode = np_utils.to_categorical(testLabel, num_classes=40)\n",
    "print(trainLabel_encode)"
   ]
  },
  {
   "cell_type": "code",
   "execution_count": 7,
   "metadata": {
    "scrolled": true
   },
   "outputs": [
    {
     "name": "stdout",
     "output_type": "stream",
     "text": [
      "Train on 1330 samples, validate on 1140 samples\n",
      "Epoch 1/100\n",
      "1330/1330 [==============================] - 147s 111ms/step - loss: 3.7024 - acc: 0.0256 - val_loss: 3.6925 - val_acc: 0.0237\n",
      "Epoch 2/100\n",
      "1330/1330 [==============================] - 108s 81ms/step - loss: 3.6906 - acc: 0.0248 - val_loss: 3.6870 - val_acc: 0.0246\n",
      "Epoch 3/100\n",
      "1330/1330 [==============================] - 114s 86ms/step - loss: 3.6817 - acc: 0.0248 - val_loss: 3.6826 - val_acc: 0.0254\n",
      "Epoch 4/100\n",
      "1330/1330 [==============================] - 111s 84ms/step - loss: 3.6743 - acc: 0.0256 - val_loss: 3.6789 - val_acc: 0.0272\n",
      "Epoch 5/100\n",
      "1330/1330 [==============================] - 110s 83ms/step - loss: 3.6678 - acc: 0.0248 - val_loss: 3.6754 - val_acc: 0.0281\n",
      "Epoch 6/100\n",
      "1330/1330 [==============================] - 109s 82ms/step - loss: 3.6619 - acc: 0.0263 - val_loss: 3.6722 - val_acc: 0.0263\n",
      "Epoch 7/100\n",
      "1330/1330 [==============================] - 115s 87ms/step - loss: 3.6560 - acc: 0.0271 - val_loss: 3.6694 - val_acc: 0.0272\n",
      "Epoch 8/100\n",
      "1330/1330 [==============================] - 189s 142ms/step - loss: 3.6504 - acc: 0.0256 - val_loss: 3.6667 - val_acc: 0.0272\n",
      "Epoch 9/100\n",
      "1330/1330 [==============================] - 184s 138ms/step - loss: 3.6447 - acc: 0.0308 - val_loss: 3.6642 - val_acc: 0.0289\n",
      "Epoch 10/100\n",
      "1330/1330 [==============================] - 175s 132ms/step - loss: 3.6391 - acc: 0.0323 - val_loss: 3.6615 - val_acc: 0.0325\n",
      "Epoch 11/100\n",
      "1330/1330 [==============================] - 110s 83ms/step - loss: 3.6333 - acc: 0.0391 - val_loss: 3.6591 - val_acc: 0.0333\n",
      "Epoch 12/100\n",
      "1330/1330 [==============================] - 112s 84ms/step - loss: 3.6277 - acc: 0.0429 - val_loss: 3.6567 - val_acc: 0.0386\n",
      "Epoch 13/100\n",
      "1330/1330 [==============================] - 110s 83ms/step - loss: 3.6215 - acc: 0.0466 - val_loss: 3.6543 - val_acc: 0.0404\n",
      "Epoch 14/100\n",
      "1330/1330 [==============================] - 111s 83ms/step - loss: 3.6157 - acc: 0.0504 - val_loss: 3.6518 - val_acc: 0.0421\n",
      "Epoch 15/100\n",
      "1330/1330 [==============================] - 106s 80ms/step - loss: 3.6094 - acc: 0.0579 - val_loss: 3.6493 - val_acc: 0.0430\n",
      "Epoch 16/100\n",
      "1330/1330 [==============================] - 110s 83ms/step - loss: 3.6028 - acc: 0.0624 - val_loss: 3.6472 - val_acc: 0.0404\n",
      "Epoch 17/100\n",
      "1330/1330 [==============================] - 113s 85ms/step - loss: 3.5961 - acc: 0.0617 - val_loss: 3.6450 - val_acc: 0.0377\n",
      "Epoch 18/100\n",
      "1330/1330 [==============================] - 111s 84ms/step - loss: 3.5890 - acc: 0.0602 - val_loss: 3.6426 - val_acc: 0.0386\n",
      "Epoch 19/100\n",
      "1330/1330 [==============================] - 200s 150ms/step - loss: 3.5817 - acc: 0.0602 - val_loss: 3.6404 - val_acc: 0.0386\n",
      "Epoch 20/100\n",
      "1330/1330 [==============================] - 111s 83ms/step - loss: 3.5733 - acc: 0.0602 - val_loss: 3.6384 - val_acc: 0.0368\n",
      "Epoch 21/100\n",
      "1330/1330 [==============================] - 110s 83ms/step - loss: 3.5649 - acc: 0.0609 - val_loss: 3.6366 - val_acc: 0.0377\n",
      "Epoch 22/100\n",
      "1330/1330 [==============================] - 108s 81ms/step - loss: 3.5552 - acc: 0.0752 - val_loss: 3.6338 - val_acc: 0.0386\n",
      "Epoch 23/100\n",
      "1330/1330 [==============================] - 90s 68ms/step - loss: 3.5450 - acc: 0.0835 - val_loss: 3.6325 - val_acc: 0.0404\n",
      "Epoch 24/100\n",
      "1330/1330 [==============================] - 62s 47ms/step - loss: 3.5338 - acc: 0.0880 - val_loss: 3.6304 - val_acc: 0.0412\n",
      "Epoch 25/100\n",
      "1330/1330 [==============================] - 62s 47ms/step - loss: 3.5205 - acc: 0.0947 - val_loss: 3.6277 - val_acc: 0.0421\n",
      "Epoch 26/100\n",
      "1330/1330 [==============================] - 73s 55ms/step - loss: 3.5071 - acc: 0.1075 - val_loss: 3.6267 - val_acc: 0.0404\n",
      "Epoch 27/100\n",
      "1330/1330 [==============================] - 87s 66ms/step - loss: 3.4900 - acc: 0.1241 - val_loss: 3.6271 - val_acc: 0.0430\n",
      "Epoch 28/100\n",
      "1330/1330 [==============================] - 82s 62ms/step - loss: 3.4713 - acc: 0.1316 - val_loss: 3.6239 - val_acc: 0.0482\n",
      "Epoch 29/100\n",
      "1330/1330 [==============================] - 88s 66ms/step - loss: 3.4494 - acc: 0.1293 - val_loss: 3.6215 - val_acc: 0.0596\n",
      "Epoch 30/100\n",
      "1330/1330 [==============================] - 83s 63ms/step - loss: 3.4228 - acc: 0.1692 - val_loss: 3.6233 - val_acc: 0.0535\n",
      "Epoch 31/100\n",
      "1330/1330 [==============================] - 87s 66ms/step - loss: 3.3930 - acc: 0.1887 - val_loss: 3.6292 - val_acc: 0.0482\n",
      "Epoch 32/100\n",
      "1330/1330 [==============================] - 81s 61ms/step - loss: 3.3543 - acc: 0.1925 - val_loss: 3.6337 - val_acc: 0.0728\n",
      "Epoch 33/100\n",
      "1330/1330 [==============================] - 87s 66ms/step - loss: 3.3104 - acc: 0.2098 - val_loss: 3.6339 - val_acc: 0.0728\n",
      "Epoch 34/100\n",
      "1330/1330 [==============================] - 82s 62ms/step - loss: 3.2479 - acc: 0.2459 - val_loss: 3.6650 - val_acc: 0.0693\n",
      "Epoch 35/100\n",
      "1330/1330 [==============================] - 87s 65ms/step - loss: 3.1741 - acc: 0.2624 - val_loss: 3.6762 - val_acc: 0.0728\n",
      "Epoch 36/100\n",
      "1330/1330 [==============================] - 83s 62ms/step - loss: 3.0748 - acc: 0.2699 - val_loss: 3.7591 - val_acc: 0.0974\n",
      "Epoch 37/100\n",
      "1330/1330 [==============================] - 88s 66ms/step - loss: 2.9518 - acc: 0.3060 - val_loss: 3.8521 - val_acc: 0.0746\n",
      "Epoch 38/100\n",
      "1330/1330 [==============================] - 83s 63ms/step - loss: 2.7904 - acc: 0.3226 - val_loss: 3.9340 - val_acc: 0.0965\n",
      "Epoch 39/100\n",
      "1330/1330 [==============================] - 87s 65ms/step - loss: 2.6034 - acc: 0.3639 - val_loss: 4.0004 - val_acc: 0.1149\n",
      "Epoch 40/100\n",
      "1330/1330 [==============================] - 84s 63ms/step - loss: 2.4246 - acc: 0.3805 - val_loss: 4.2870 - val_acc: 0.1246\n",
      "Epoch 41/100\n",
      "1330/1330 [==============================] - 87s 65ms/step - loss: 2.3067 - acc: 0.3970 - val_loss: 4.3831 - val_acc: 0.1114\n",
      "Epoch 42/100\n",
      "1330/1330 [==============================] - 84s 63ms/step - loss: 2.1006 - acc: 0.4579 - val_loss: 4.2922 - val_acc: 0.1553\n",
      "Epoch 43/100\n",
      "1330/1330 [==============================] - 86s 65ms/step - loss: 1.9471 - acc: 0.5075 - val_loss: 4.8609 - val_acc: 0.1395\n",
      "Epoch 44/100\n",
      "1330/1330 [==============================] - 87s 65ms/step - loss: 1.8031 - acc: 0.5218 - val_loss: 4.4778 - val_acc: 0.2184\n",
      "Epoch 45/100\n",
      "1330/1330 [==============================] - 86s 64ms/step - loss: 1.6931 - acc: 0.5827 - val_loss: 5.2896 - val_acc: 0.1719\n",
      "Epoch 46/100\n",
      "1330/1330 [==============================] - 87s 65ms/step - loss: 1.3735 - acc: 0.6767 - val_loss: 4.7115 - val_acc: 0.2360\n",
      "Epoch 47/100\n",
      "1330/1330 [==============================] - 85s 64ms/step - loss: 1.4820 - acc: 0.6669 - val_loss: 4.9054 - val_acc: 0.2553\n",
      "Epoch 48/100\n",
      "1330/1330 [==============================] - 87s 65ms/step - loss: 1.0509 - acc: 0.7624 - val_loss: 5.0989 - val_acc: 0.2421\n",
      "Epoch 49/100\n",
      "1330/1330 [==============================] - 84s 63ms/step - loss: 0.9839 - acc: 0.7579 - val_loss: 4.9681 - val_acc: 0.2860\n",
      "Epoch 50/100\n",
      "1330/1330 [==============================] - 86s 65ms/step - loss: 0.9554 - acc: 0.7977 - val_loss: 5.0314 - val_acc: 0.2886\n",
      "Epoch 51/100\n",
      "1330/1330 [==============================] - 85s 64ms/step - loss: 0.6068 - acc: 0.8669 - val_loss: 5.2848 - val_acc: 0.2895\n",
      "Epoch 52/100\n",
      "1330/1330 [==============================] - 87s 66ms/step - loss: 0.5248 - acc: 0.8782 - val_loss: 6.6671 - val_acc: 0.1877\n",
      "Epoch 53/100\n",
      "1330/1330 [==============================] - 84s 63ms/step - loss: 0.3908 - acc: 0.9158 - val_loss: 5.7980 - val_acc: 0.3026\n",
      "Epoch 54/100\n",
      "1330/1330 [==============================] - 87s 65ms/step - loss: 0.3365 - acc: 0.9383 - val_loss: 5.8841 - val_acc: 0.3167\n",
      "Epoch 55/100\n",
      "1330/1330 [==============================] - 83s 62ms/step - loss: 0.2874 - acc: 0.9429 - val_loss: 5.9081 - val_acc: 0.3272\n",
      "Epoch 56/100\n",
      "1330/1330 [==============================] - 87s 66ms/step - loss: 0.2231 - acc: 0.9571 - val_loss: 6.2617 - val_acc: 0.3228\n",
      "Epoch 57/100\n",
      "1330/1330 [==============================] - 83s 63ms/step - loss: 0.3583 - acc: 0.9316 - val_loss: 13.4210 - val_acc: 0.0333\n",
      "Epoch 58/100\n",
      "1330/1330 [==============================] - 87s 65ms/step - loss: 2.7578 - acc: 0.7000 - val_loss: 5.3703 - val_acc: 0.3096\n",
      "Epoch 59/100\n",
      "1330/1330 [==============================] - 83s 62ms/step - loss: 0.7247 - acc: 0.9188 - val_loss: 5.7877 - val_acc: 0.3333\n"
     ]
    },
    {
     "name": "stdout",
     "output_type": "stream",
     "text": [
      "Epoch 60/100\n",
      "1330/1330 [==============================] - 88s 66ms/step - loss: 0.5987 - acc: 0.9504 - val_loss: 5.7803 - val_acc: 0.3491\n",
      "Epoch 61/100\n",
      "1330/1330 [==============================] - 83s 62ms/step - loss: 0.5657 - acc: 0.9496 - val_loss: 6.1724 - val_acc: 0.3421\n",
      "Epoch 62/100\n",
      "1330/1330 [==============================] - 88s 66ms/step - loss: 0.5423 - acc: 0.9549 - val_loss: 6.5427 - val_acc: 0.3184\n",
      "Epoch 63/100\n",
      "1330/1330 [==============================] - 82s 62ms/step - loss: 0.5163 - acc: 0.9526 - val_loss: 6.4090 - val_acc: 0.3307\n",
      "Epoch 64/100\n",
      "1330/1330 [==============================] - 88s 66ms/step - loss: 0.2971 - acc: 0.9534 - val_loss: 6.1582 - val_acc: 0.3474\n",
      "Epoch 65/100\n",
      "1330/1330 [==============================] - 83s 62ms/step - loss: 0.1153 - acc: 0.9842 - val_loss: 6.1626 - val_acc: 0.3465\n",
      "Epoch 66/100\n",
      "1330/1330 [==============================] - 87s 65ms/step - loss: 0.0992 - acc: 0.9865 - val_loss: 6.2764 - val_acc: 0.3500\n",
      "Epoch 67/100\n",
      "1330/1330 [==============================] - 81s 61ms/step - loss: 0.0896 - acc: 0.9850 - val_loss: 6.4464 - val_acc: 0.3482\n",
      "Epoch 68/100\n",
      "1330/1330 [==============================] - 85s 64ms/step - loss: 0.0829 - acc: 0.9880 - val_loss: 6.6657 - val_acc: 0.3430\n",
      "Epoch 69/100\n",
      "1330/1330 [==============================] - 82s 62ms/step - loss: 0.0767 - acc: 0.9872 - val_loss: 6.6652 - val_acc: 0.3491\n",
      "Epoch 70/100\n",
      "1330/1330 [==============================] - 88s 66ms/step - loss: 0.0719 - acc: 0.9895 - val_loss: 6.7674 - val_acc: 0.3456\n",
      "Epoch 71/100\n",
      "1330/1330 [==============================] - 82s 62ms/step - loss: 0.0680 - acc: 0.9887 - val_loss: 6.9386 - val_acc: 0.3421\n",
      "Epoch 72/100\n",
      "1330/1330 [==============================] - 88s 66ms/step - loss: 0.0642 - acc: 0.9910 - val_loss: 6.9306 - val_acc: 0.3447\n",
      "Epoch 73/100\n",
      "1330/1330 [==============================] - 82s 62ms/step - loss: 0.0606 - acc: 0.9910 - val_loss: 6.9373 - val_acc: 0.3500\n",
      "Epoch 74/100\n",
      "1330/1330 [==============================] - 87s 66ms/step - loss: 0.0584 - acc: 0.9910 - val_loss: 7.1720 - val_acc: 0.3447\n",
      "Epoch 75/100\n",
      "1330/1330 [==============================] - 82s 62ms/step - loss: 0.0562 - acc: 0.9925 - val_loss: 7.1132 - val_acc: 0.3465\n",
      "Epoch 76/100\n",
      "1330/1330 [==============================] - 87s 66ms/step - loss: 0.0539 - acc: 0.9925 - val_loss: 7.2322 - val_acc: 0.3447\n",
      "Epoch 77/100\n",
      "1330/1330 [==============================] - 81s 61ms/step - loss: 0.0522 - acc: 0.9917 - val_loss: 7.3383 - val_acc: 0.3360\n",
      "Epoch 78/100\n",
      "1330/1330 [==============================] - 87s 65ms/step - loss: 0.0502 - acc: 0.9925 - val_loss: 7.2466 - val_acc: 0.3474\n",
      "Epoch 79/100\n",
      "1330/1330 [==============================] - 82s 61ms/step - loss: 0.0487 - acc: 0.9932 - val_loss: 7.3819 - val_acc: 0.3447\n",
      "Epoch 80/100\n",
      "1330/1330 [==============================] - 87s 65ms/step - loss: 0.0472 - acc: 0.9932 - val_loss: 7.3840 - val_acc: 0.3447\n",
      "Epoch 81/100\n",
      "1330/1330 [==============================] - 83s 63ms/step - loss: 0.0460 - acc: 0.9932 - val_loss: 7.4176 - val_acc: 0.3456\n",
      "Epoch 82/100\n",
      "1330/1330 [==============================] - 88s 66ms/step - loss: 0.0448 - acc: 0.9932 - val_loss: 7.6656 - val_acc: 0.3386\n",
      "Epoch 83/100\n",
      "1330/1330 [==============================] - 81s 61ms/step - loss: 0.0438 - acc: 0.9932 - val_loss: 7.5792 - val_acc: 0.3439\n",
      "Epoch 84/100\n",
      "1330/1330 [==============================] - 88s 66ms/step - loss: 0.0428 - acc: 0.9932 - val_loss: 7.6413 - val_acc: 0.3421\n",
      "Epoch 85/100\n",
      "1330/1330 [==============================] - 83s 62ms/step - loss: 0.0417 - acc: 0.9932 - val_loss: 7.6051 - val_acc: 0.3395\n",
      "Epoch 86/100\n",
      "1330/1330 [==============================] - 88s 66ms/step - loss: 0.0410 - acc: 0.9932 - val_loss: 7.6469 - val_acc: 0.3395\n",
      "Epoch 87/100\n",
      "1330/1330 [==============================] - 82s 62ms/step - loss: 0.0402 - acc: 0.9932 - val_loss: 7.6664 - val_acc: 0.3404\n",
      "Epoch 88/100\n",
      "1330/1330 [==============================] - 87s 66ms/step - loss: 0.0395 - acc: 0.9940 - val_loss: 7.7988 - val_acc: 0.3395\n",
      "Epoch 89/100\n",
      "1330/1330 [==============================] - 82s 61ms/step - loss: 0.0388 - acc: 0.9932 - val_loss: 7.8638 - val_acc: 0.3360\n",
      "Epoch 90/100\n",
      "1330/1330 [==============================] - 87s 65ms/step - loss: 0.0382 - acc: 0.9932 - val_loss: 7.7903 - val_acc: 0.3360\n",
      "Epoch 91/100\n",
      "1330/1330 [==============================] - 82s 62ms/step - loss: 0.0376 - acc: 0.9947 - val_loss: 7.8425 - val_acc: 0.3421\n",
      "Epoch 92/100\n",
      "1330/1330 [==============================] - 87s 66ms/step - loss: 0.0370 - acc: 0.9940 - val_loss: 7.8120 - val_acc: 0.3342\n",
      "Epoch 93/100\n",
      "1330/1330 [==============================] - 81s 61ms/step - loss: 0.0365 - acc: 0.9955 - val_loss: 7.8280 - val_acc: 0.3395\n",
      "Epoch 94/100\n",
      "1330/1330 [==============================] - 87s 65ms/step - loss: 0.0360 - acc: 0.9947 - val_loss: 7.8917 - val_acc: 0.3395\n",
      "Epoch 95/100\n",
      "1330/1330 [==============================] - 81s 61ms/step - loss: 0.0356 - acc: 0.9947 - val_loss: 8.0526 - val_acc: 0.3368\n",
      "Epoch 96/100\n",
      "1330/1330 [==============================] - 86s 65ms/step - loss: 0.0352 - acc: 0.9947 - val_loss: 7.9172 - val_acc: 0.3386\n",
      "Epoch 97/100\n",
      "1330/1330 [==============================] - 82s 62ms/step - loss: 0.0348 - acc: 0.9955 - val_loss: 7.9568 - val_acc: 0.3386\n",
      "Epoch 98/100\n",
      "1330/1330 [==============================] - 89s 67ms/step - loss: 0.0344 - acc: 0.9955 - val_loss: 7.9698 - val_acc: 0.3386\n",
      "Epoch 99/100\n",
      "1330/1330 [==============================] - 83s 62ms/step - loss: 0.0340 - acc: 0.9955 - val_loss: 8.0327 - val_acc: 0.3351\n",
      "Epoch 100/100\n",
      "1330/1330 [==============================] - 87s 66ms/step - loss: 0.0336 - acc: 0.9955 - val_loss: 8.0530 - val_acc: 0.3325\n"
     ]
    }
   ],
   "source": [
    "model = VGG16(input_shape=[224, 224, 3])\n",
    "sgd = SGD(lr=0.0001, nesterov=True)\n",
    "model.compile(loss='categorical_crossentropy', optimizer=sgd, metrics=['accuracy'])\n",
    "history = model.fit(trainMatrix, trainLabel_encode, epochs=100, batch_size=32, \n",
    "                    validation_data=(testMatrix, testLabel_encode), verbose=1)"
   ]
  },
  {
   "cell_type": "code",
   "execution_count": 8,
   "metadata": {},
   "outputs": [
    {
     "data": {
      "image/png": "[encoded data removed]",
      "text/plain": [
       "<Figure size 432x288 with 1 Axes>"
      ]
     },
     "metadata": {},
     "output_type": "display_data"
    }
   ],
   "source": [
    "import matplotlib.pyplot as plt\n",
    "plt.plot(history.history['acc'], 'g', label='train_acc')\n",
    "plt.plot(history.history['val_acc'], 'b', label='val_acc')\n",
    "plt.legend(loc='upper right')\n",
    "plt.title('model accuracy')\n",
    "plt.xlabel('epoch')\n",
    "plt.show()"
   ]
  },
  {
   "cell_type": "code",
   "execution_count": 9,
   "metadata": {},
   "outputs": [
    {
     "data": {
      "image/png": "[encoded data removed]",
      "text/plain": [
       "<Figure size 432x288 with 1 Axes>"
      ]
     },
     "metadata": {},
     "output_type": "display_data"
    }
   ],
   "source": [
    "plt.plot(history.history['loss'], 'g', label='train_loss')\n",
    "plt.plot(history.history['val_loss'], 'b', label='val_loss')\n",
    "plt.legend(loc='upper right')\n",
    "plt.title('model loss')\n",
    "plt.xlabel('epoch')\n",
    "plt.show()"
   ]
  },
  {
   "cell_type": "code",
   "execution_count": 10,
   "metadata": {},
   "outputs": [
    {
     "name": "stdout",
     "output_type": "stream",
     "text": [
      "1140/1140 [==============================] - 16s 14ms/step\n",
      "loss :  8.053018941377339\n",
      "accuracy :  0.3324561403639484\n"
     ]
    }
   ],
   "source": [
    "loss, acc = model.evaluate(x = testMatrix, y = testLabel_encode, batch_size = 32)\n",
    "print(\"loss : \", loss)\n",
    "print(\"accuracy : \", acc)"
   ]
  },
  {
   "cell_type": "code",
   "execution_count": null,
   "metadata": {},
   "outputs": [],
   "source": []
  }
 ],
 "metadata": {
  "kernelspec": {
   "display_name": "Python 3",
   "language": "python",
   "name": "python3"
  },
  "language_info": {
   "codemirror_mode": {
    "name": "ipython",
    "version": 3
   },
   "file_extension": ".py",
   "mimetype": "text/x-python",
   "name": "python",
   "nbconvert_exporter": "python",
   "pygments_lexer": "ipython3",
   "version": "3.6.5"
  }
 },
 "nbformat": 4,
 "nbformat_minor": 2
}
