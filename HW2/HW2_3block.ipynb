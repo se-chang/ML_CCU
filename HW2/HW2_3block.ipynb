{
 "cells": [
  {
   "cell_type": "code",
   "execution_count": 1,
   "metadata": {},
   "outputs": [
    {
     "name": "stderr",
     "output_type": "stream",
     "text": [
      "C:\\Users\\s110024\\AppData\\Local\\conda\\conda\\envs\\ML2018\\lib\\site-packages\\h5py\\__init__.py:36: FutureWarning: Conversion of the second argument of issubdtype from `float` to `np.floating` is deprecated. In future, it will be treated as `np.float64 == np.dtype(float).type`.\n",
      "  from ._conv import register_converters as _register_converters\n",
      "Using TensorFlow backend.\n"
     ]
    },
    {
     "name": "stdout",
     "output_type": "stream",
     "text": [
      "WARNING:tensorflow:From C:\\Users\\s110024\\AppData\\Local\\conda\\conda\\envs\\ML2018\\lib\\site-packages\\tensorflow\\contrib\\learn\\python\\learn\\datasets\\base.py:198: retry (from tensorflow.contrib.learn.python.learn.datasets.base) is deprecated and will be removed in a future version.\n",
      "Instructions for updating:\n",
      "Use the retry module or similar alternatives.\n",
      "curses is not supported on this machine (please install/reinstall curses for an optimal experience)\n"
     ]
    }
   ],
   "source": [
    "import tensorflow as tf\n",
    "import keras.backend.tensorflow_backend as KTF\n",
    "import os\n",
    "import warnings\n",
    "import os, sys\n",
    "import numpy as np\n",
    "import keras\n",
    "import cv2\n",
    "import random\n",
    "from skimage import io,transform\n",
    "from tflearn.layers.conv import global_avg_pool\n",
    "from keras.models import Model\n",
    "from keras.layers import Input, Dense, Activation, Flatten, Conv2D, MaxPooling2D, AveragePooling2D\n",
    "from keras.layers import GlobalAveragePooling2D, GlobalMaxPooling2D, BatchNormalization\n",
    "from keras.models import Model\n",
    "from keras import layers\n",
    "from keras import backend as K\n",
    "from keras.utils import np_utils\n",
    "from keras.optimizers import SGD\n",
    "from keras.callbacks import Callback"
   ]
  },
  {
   "cell_type": "code",
   "execution_count": 2,
   "metadata": {},
   "outputs": [],
   "source": [
    "#进行配置，使用40%的GPU\n",
    "config = tf.ConfigProto()\n",
    "config.gpu_options.per_process_gpu_memory_fraction = 0.3\n",
    "session = tf.Session(config=config)\n",
    "# 设置session\n",
    "KTF.set_session(session )"
   ]
  },
  {
   "cell_type": "code",
   "execution_count": 3,
   "metadata": {},
   "outputs": [],
   "source": [
    "def VGG16(input_tensor=None, input_shape=None):\n",
    "\n",
    "    img_input = Input(shape=input_shape)\n",
    "\n",
    "    # Block 1\n",
    "    x = Conv2D(64, (3, 3), activation='relu', padding='same', name='block1_conv1')(img_input)\n",
    "    x = Conv2D(64, (3, 3), activation='relu', padding='same', name='block1_conv2')(x)\n",
    "    x = MaxPooling2D((2, 2), strides=(2, 2), name='block1_pool')(x)\n",
    "\n",
    "    # Block 2\n",
    "    x = Conv2D(128, (3, 3), activation='relu', padding='same', name='block2_conv1')(x)\n",
    "    x = Conv2D(128, (3, 3), activation='relu', padding='same', name='block2_conv2')(x)\n",
    "    x = MaxPooling2D((2, 2), strides=(2, 2), name='block2_pool')(x)\n",
    "\n",
    "    # Block 3\n",
    "    x = Conv2D(256, (3, 3), activation='relu', padding='same', name='block3_conv1')(x)\n",
    "    x = Conv2D(256, (3, 3), activation='relu', padding='same', name='block3_conv2')(x)\n",
    "    x = Conv2D(256, (3, 3), activation='relu', padding='same', name='block3_conv3')(x)\n",
    "    x = MaxPooling2D((2, 2), strides=(2, 2), name='block3_pool')(x)\n",
    "\n",
    "\n",
    "\n",
    "    # Classification block\n",
    "    x = Flatten(name='flatten')(x)\n",
    "    #x = Dense(4096, activation='relu', name='fca')(x)\n",
    "    #x = Dense(4096, activation='relu', name='fcb')(x)\n",
    "    x = Dense(40, activation='softmax', name='Classification')(x)\n",
    "\n",
    "    inputs = img_input\n",
    "    # Create model.\n",
    "    model = Model(inputs, x, name='vgg16')\n",
    "\n",
    "    return model"
   ]
  },
  {
   "cell_type": "code",
   "execution_count": 4,
   "metadata": {},
   "outputs": [],
   "source": [
    "def loading(dirs = os.getcwd()):\n",
    "\n",
    "    trainMatrix = []\n",
    "    trainLabel = []\n",
    "    testMatrix = []\n",
    "    testLabel = []\n",
    "    countOfPeople = 0\n",
    "    for i in range(1, 40):\n",
    "        if i == 14:\n",
    "            continue\n",
    "        file = os.path.join(dirs, 'CroppedYale', 'yaleB%02d' % i, '*.pgm')\n",
    "    \n",
    "        rawImg = io.imread_collection(file)\n",
    "        \n",
    "        imgs = np.array([cv2.resize(img, (224,224), interpolation = cv2.INTER_CUBIC) for img in rawImg])\n",
    "        imgs = np.array(imgs, dtype=np.int64)\n",
    "        \n",
    "        rimgs = np.random.permutation(imgs)\n",
    "        rimgs = np.array(rimgs)\n",
    "        \n",
    "        countOfPeople = len(rimgs)\n",
    "        \n",
    "        train = rimgs[0:35]\n",
    "        trainMatrix.append(train)\n",
    "        for j in range(0, 35): trainLabel.append(i)\n",
    "            \n",
    "        test = rimgs[countOfPeople-30:countOfPeople]\n",
    "        testMatrix.append(test)\n",
    "        for j in range(0, 30): testLabel.append(i) \n",
    "\n",
    "        \n",
    "    return trainMatrix, trainLabel, testMatrix, testLabel"
   ]
  },
  {
   "cell_type": "code",
   "execution_count": 5,
   "metadata": {},
   "outputs": [
    {
     "name": "stdout",
     "output_type": "stream",
     "text": [
      "TrainCount: 1330\n",
      "TestCount: 1140\n",
      "\n"
     ]
    }
   ],
   "source": [
    "trainMatrix, trainLabel, testMatrix, testLabel = loading(os.getcwd())\n",
    "\n",
    "\n",
    "trainCount = np.size(trainLabel, 0)\n",
    "testCount = np.size(testLabel, 0)\n",
    "\n",
    "\n",
    "trainMatrix = np.array(trainMatrix).reshape(trainCount,224,224,1)\n",
    "\n",
    "testMatrix = np.array(testMatrix).reshape(testCount,224,224,1)\n",
    "\n",
    "\n",
    "print(\"TrainCount: %d\" % trainCount)\n",
    "print(\"TestCount: %d\\n\" % testCount)"
   ]
  },
  {
   "cell_type": "code",
   "execution_count": 6,
   "metadata": {},
   "outputs": [],
   "source": [
    "trainLabel_encode = np_utils.to_categorical(trainLabel, num_classes=40)\n",
    "testLabel_encode = np_utils.to_categorical(testLabel, num_classes=40)\n"
   ]
  },
  {
   "cell_type": "code",
   "execution_count": 7,
   "metadata": {
    "scrolled": false
   },
   "outputs": [
    {
     "name": "stdout",
     "output_type": "stream",
     "text": [
      "Train on 1330 samples, validate on 1140 samples\n",
      "Epoch 1/100\n",
      "1330/1330 [==============================] - 51s 39ms/step - loss: 3.7672 - acc: 0.0338 - val_loss: 3.6342 - val_acc: 0.0404\n",
      "Epoch 2/100\n",
      "1330/1330 [==============================] - 43s 32ms/step - loss: 3.5205 - acc: 0.0654 - val_loss: 3.4615 - val_acc: 0.0772\n",
      "Epoch 3/100\n",
      "1330/1330 [==============================] - 43s 32ms/step - loss: 3.3392 - acc: 0.1361 - val_loss: 3.3327 - val_acc: 0.1132\n",
      "Epoch 4/100\n",
      "1330/1330 [==============================] - 43s 32ms/step - loss: 3.1522 - acc: 0.1865 - val_loss: 3.1314 - val_acc: 0.1728\n",
      "Epoch 5/100\n",
      "1330/1330 [==============================] - 43s 32ms/step - loss: 2.9270 - acc: 0.2361 - val_loss: 2.9492 - val_acc: 0.1930\n",
      "Epoch 6/100\n",
      "1330/1330 [==============================] - 43s 33ms/step - loss: 2.6261 - acc: 0.3226 - val_loss: 2.7893 - val_acc: 0.2246\n",
      "Epoch 7/100\n",
      "1330/1330 [==============================] - 43s 32ms/step - loss: 2.3990 - acc: 0.3865 - val_loss: 2.3687 - val_acc: 0.3868\n",
      "Epoch 8/100\n",
      "1330/1330 [==============================] - 43s 32ms/step - loss: 1.9808 - acc: 0.4985 - val_loss: 2.0098 - val_acc: 0.4675\n",
      "Epoch 9/100\n",
      "1330/1330 [==============================] - 43s 32ms/step - loss: 1.6844 - acc: 0.5872 - val_loss: 1.8812 - val_acc: 0.4623\n",
      "Epoch 10/100\n",
      "1330/1330 [==============================] - 43s 32ms/step - loss: 1.4378 - acc: 0.6624 - val_loss: 1.5409 - val_acc: 0.6140\n",
      "Epoch 11/100\n",
      "1330/1330 [==============================] - 43s 32ms/step - loss: 1.0357 - acc: 0.7774 - val_loss: 1.2741 - val_acc: 0.6737\n",
      "Epoch 12/100\n",
      "1330/1330 [==============================] - 43s 32ms/step - loss: 0.8094 - acc: 0.8188 - val_loss: 1.1226 - val_acc: 0.7105\n",
      "Epoch 13/100\n",
      "1330/1330 [==============================] - 43s 32ms/step - loss: 0.6429 - acc: 0.8617 - val_loss: 0.9935 - val_acc: 0.7219\n",
      "Epoch 14/100\n",
      "1330/1330 [==============================] - 43s 33ms/step - loss: 0.6282 - acc: 0.8827 - val_loss: 0.8514 - val_acc: 0.7886\n",
      "Epoch 15/100\n",
      "1330/1330 [==============================] - 43s 33ms/step - loss: 1.0409 - acc: 0.8481 - val_loss: 1.5165 - val_acc: 0.7807\n",
      "Epoch 16/100\n",
      "1330/1330 [==============================] - 50s 37ms/step - loss: 1.0985 - acc: 0.9120 - val_loss: 1.4270 - val_acc: 0.7939\n",
      "Epoch 17/100\n",
      "1330/1330 [==============================] - 52s 39ms/step - loss: 1.0147 - acc: 0.9271 - val_loss: 1.2799 - val_acc: 0.8404\n",
      "Epoch 18/100\n",
      "1330/1330 [==============================] - 80s 60ms/step - loss: 0.9344 - acc: 0.9301 - val_loss: 1.2067 - val_acc: 0.8167\n",
      "Epoch 19/100\n",
      "1330/1330 [==============================] - 83s 62ms/step - loss: 0.6451 - acc: 0.9429 - val_loss: 0.9838 - val_acc: 0.8509\n",
      "Epoch 20/100\n",
      "1330/1330 [==============================] - 84s 63ms/step - loss: 0.5745 - acc: 0.9624 - val_loss: 0.9124 - val_acc: 0.8684\n",
      "Epoch 21/100\n",
      "1330/1330 [==============================] - 84s 63ms/step - loss: 0.9127 - acc: 0.9015 - val_loss: 4.2560 - val_acc: 0.3684\n",
      "Epoch 22/100\n",
      "1330/1330 [==============================] - 84s 63ms/step - loss: 1.4918 - acc: 0.8850 - val_loss: 1.6484 - val_acc: 0.8254\n",
      "Epoch 23/100\n",
      "1330/1330 [==============================] - 84s 63ms/step - loss: 1.1796 - acc: 0.9218 - val_loss: 1.2716 - val_acc: 0.8518\n",
      "Epoch 24/100\n",
      "1330/1330 [==============================] - 84s 63ms/step - loss: 0.9317 - acc: 0.9414 - val_loss: 1.2207 - val_acc: 0.8649\n",
      "Epoch 25/100\n",
      "1330/1330 [==============================] - 84s 63ms/step - loss: 0.8867 - acc: 0.9436 - val_loss: 1.1933 - val_acc: 0.8667\n",
      "Epoch 26/100\n",
      "1330/1330 [==============================] - 83s 62ms/step - loss: 0.8237 - acc: 0.9466 - val_loss: 1.1755 - val_acc: 0.8649\n",
      "Epoch 27/100\n",
      "1330/1330 [==============================] - 84s 63ms/step - loss: 0.7958 - acc: 0.9519 - val_loss: 1.1440 - val_acc: 0.8684\n",
      "Epoch 28/100\n",
      "1330/1330 [==============================] - 83s 63ms/step - loss: 0.7791 - acc: 0.9534 - val_loss: 1.1224 - val_acc: 0.8702\n",
      "Epoch 29/100\n",
      "1330/1330 [==============================] - 84s 63ms/step - loss: 0.9073 - acc: 0.9346 - val_loss: 1.5305 - val_acc: 0.8228\n",
      "Epoch 30/100\n",
      "1330/1330 [==============================] - 84s 63ms/step - loss: 0.7407 - acc: 0.9511 - val_loss: 0.8510 - val_acc: 0.8886\n",
      "Epoch 31/100\n",
      "1330/1330 [==============================] - 84s 63ms/step - loss: 0.5066 - acc: 0.9684 - val_loss: 0.8210 - val_acc: 0.8956\n",
      "Epoch 32/100\n",
      "1330/1330 [==============================] - 84s 63ms/step - loss: 0.4935 - acc: 0.9707 - val_loss: 0.8220 - val_acc: 0.8965\n",
      "Epoch 33/100\n",
      "1330/1330 [==============================] - 84s 63ms/step - loss: 0.4874 - acc: 0.9714 - val_loss: 0.8187 - val_acc: 0.8956\n",
      "Epoch 34/100\n",
      "1330/1330 [==============================] - 84s 63ms/step - loss: 0.4826 - acc: 0.9714 - val_loss: 0.8070 - val_acc: 0.8982\n",
      "Epoch 35/100\n",
      "1330/1330 [==============================] - 84s 63ms/step - loss: 0.4799 - acc: 0.9714 - val_loss: 0.8048 - val_acc: 0.9009\n",
      "Epoch 36/100\n",
      "1330/1330 [==============================] - 84s 63ms/step - loss: 0.4757 - acc: 0.9722 - val_loss: 0.8115 - val_acc: 0.9000\n",
      "Epoch 37/100\n",
      "1330/1330 [==============================] - 84s 63ms/step - loss: 0.4748 - acc: 0.9714 - val_loss: 0.8019 - val_acc: 0.9026\n",
      "Epoch 38/100\n",
      "1330/1330 [==============================] - 84s 64ms/step - loss: 0.4702 - acc: 0.9722 - val_loss: 0.7973 - val_acc: 0.8982\n",
      "Epoch 39/100\n",
      "1330/1330 [==============================] - 83s 62ms/step - loss: 0.4687 - acc: 0.9722 - val_loss: 0.8035 - val_acc: 0.8982\n",
      "Epoch 40/100\n",
      "1330/1330 [==============================] - 85s 64ms/step - loss: 0.4682 - acc: 0.9714 - val_loss: 0.8035 - val_acc: 0.8991\n",
      "Epoch 41/100\n",
      "1330/1330 [==============================] - 84s 63ms/step - loss: 0.4678 - acc: 0.9714 - val_loss: 0.7940 - val_acc: 0.9000\n",
      "Epoch 42/100\n",
      "1330/1330 [==============================] - 83s 63ms/step - loss: 0.4661 - acc: 0.9714 - val_loss: 0.7912 - val_acc: 0.8982\n",
      "Epoch 43/100\n",
      "1330/1330 [==============================] - 85s 64ms/step - loss: 0.4266 - acc: 0.9692 - val_loss: 0.8029 - val_acc: 0.8904\n",
      "Epoch 44/100\n",
      "1330/1330 [==============================] - 84s 63ms/step - loss: 0.3533 - acc: 0.9782 - val_loss: 0.7906 - val_acc: 0.8956\n",
      "Epoch 45/100\n",
      "1330/1330 [==============================] - 82s 62ms/step - loss: 0.3441 - acc: 0.9797 - val_loss: 0.7835 - val_acc: 0.8947\n",
      "Epoch 46/100\n",
      "1330/1330 [==============================] - 83s 62ms/step - loss: 0.3386 - acc: 0.9805 - val_loss: 0.7793 - val_acc: 0.9000\n",
      "Epoch 47/100\n",
      "1330/1330 [==============================] - 84s 63ms/step - loss: 0.3354 - acc: 0.9805 - val_loss: 0.7738 - val_acc: 0.9018\n",
      "Epoch 48/100\n",
      "1330/1330 [==============================] - 84s 63ms/step - loss: 0.3341 - acc: 0.9805 - val_loss: 0.7730 - val_acc: 0.9044\n",
      "Epoch 49/100\n",
      "1330/1330 [==============================] - 85s 64ms/step - loss: 0.3355 - acc: 0.9797 - val_loss: 0.7742 - val_acc: 0.9018\n",
      "Epoch 50/100\n",
      "1330/1330 [==============================] - 84s 63ms/step - loss: 0.3332 - acc: 0.9805 - val_loss: 0.7823 - val_acc: 0.9009\n",
      "Epoch 51/100\n",
      "1330/1330 [==============================] - 84s 63ms/step - loss: 0.3350 - acc: 0.9797 - val_loss: 0.7767 - val_acc: 0.9026\n",
      "Epoch 52/100\n",
      "1330/1330 [==============================] - 85s 64ms/step - loss: 0.3343 - acc: 0.9797 - val_loss: 0.7877 - val_acc: 0.9035\n",
      "Epoch 53/100\n",
      "1330/1330 [==============================] - 94s 71ms/step - loss: 0.3367 - acc: 0.9797 - val_loss: 0.7831 - val_acc: 0.9000\n",
      "Epoch 54/100\n",
      "1330/1330 [==============================] - 113s 85ms/step - loss: 0.3336 - acc: 0.9797 - val_loss: 0.7775 - val_acc: 0.9000\n",
      "Epoch 55/100\n",
      "1330/1330 [==============================] - 104s 79ms/step - loss: 0.3320 - acc: 0.9797 - val_loss: 0.7822 - val_acc: 0.8991\n",
      "Epoch 56/100\n",
      "1330/1330 [==============================] - 110s 83ms/step - loss: 0.3311 - acc: 0.9805 - val_loss: 0.7816 - val_acc: 0.8982\n",
      "Epoch 57/100\n",
      "1330/1330 [==============================] - 102s 77ms/step - loss: 0.3298 - acc: 0.9805 - val_loss: 0.7838 - val_acc: 0.9000\n",
      "Epoch 58/100\n",
      "1330/1330 [==============================] - 111s 84ms/step - loss: 0.3327 - acc: 0.9797 - val_loss: 0.7847 - val_acc: 0.9009\n",
      "Epoch 59/100\n",
      "1330/1330 [==============================] - 97s 73ms/step - loss: 0.3315 - acc: 0.9797 - val_loss: 0.7854 - val_acc: 0.8991\n",
      "Epoch 60/100\n"
     ]
    },
    {
     "name": "stdout",
     "output_type": "stream",
     "text": [
      "1330/1330 [==============================] - 117s 88ms/step - loss: 0.3291 - acc: 0.9797 - val_loss: 0.7870 - val_acc: 0.8982\n",
      "Epoch 61/100\n",
      "1330/1330 [==============================] - 109s 82ms/step - loss: 0.3291 - acc: 0.9797 - val_loss: 0.7883 - val_acc: 0.8965\n",
      "Epoch 62/100\n",
      "1330/1330 [==============================] - 109s 82ms/step - loss: 0.3295 - acc: 0.9797 - val_loss: 0.7875 - val_acc: 0.8982\n",
      "Epoch 63/100\n",
      "1330/1330 [==============================] - 89s 67ms/step - loss: 0.3302 - acc: 0.9797 - val_loss: 0.7882 - val_acc: 0.8974\n",
      "Epoch 64/100\n",
      "1330/1330 [==============================] - 93s 70ms/step - loss: 0.3264 - acc: 0.9797 - val_loss: 0.7882 - val_acc: 0.8991\n",
      "Epoch 65/100\n",
      "1330/1330 [==============================] - 93s 70ms/step - loss: 0.3243 - acc: 0.9820 - val_loss: 0.7898 - val_acc: 0.8982\n",
      "Epoch 66/100\n",
      "1330/1330 [==============================] - 103s 78ms/step - loss: 0.3238 - acc: 0.9820 - val_loss: 0.7882 - val_acc: 0.9000\n",
      "Epoch 67/100\n",
      "1330/1330 [==============================] - 118s 89ms/step - loss: 0.3233 - acc: 0.9820 - val_loss: 0.7904 - val_acc: 0.9000\n",
      "Epoch 68/100\n",
      "1330/1330 [==============================] - 141s 106ms/step - loss: 0.3230 - acc: 0.9820 - val_loss: 0.7910 - val_acc: 0.8991\n",
      "Epoch 69/100\n",
      "1330/1330 [==============================] - 115s 87ms/step - loss: 0.3226 - acc: 0.9820 - val_loss: 0.7918 - val_acc: 0.8991\n",
      "Epoch 70/100\n",
      "1330/1330 [==============================] - 128s 96ms/step - loss: 0.3222 - acc: 0.9820 - val_loss: 0.7932 - val_acc: 0.8991\n",
      "Epoch 71/100\n",
      "1330/1330 [==============================] - 106s 80ms/step - loss: 0.3220 - acc: 0.9820 - val_loss: 0.7945 - val_acc: 0.8982\n",
      "Epoch 72/100\n",
      "1330/1330 [==============================] - 126s 94ms/step - loss: 0.3217 - acc: 0.9820 - val_loss: 0.7968 - val_acc: 0.8991\n",
      "Epoch 73/100\n",
      "1330/1330 [==============================] - 123s 92ms/step - loss: 0.3215 - acc: 0.9820 - val_loss: 0.7980 - val_acc: 0.8991\n",
      "Epoch 74/100\n",
      "1330/1330 [==============================] - 130s 98ms/step - loss: 0.3213 - acc: 0.9820 - val_loss: 0.7992 - val_acc: 0.8991\n",
      "Epoch 75/100\n",
      "1330/1330 [==============================] - 137s 103ms/step - loss: 0.3210 - acc: 0.9820 - val_loss: 0.8013 - val_acc: 0.8982\n",
      "Epoch 76/100\n",
      "1330/1330 [==============================] - 139s 105ms/step - loss: 0.3208 - acc: 0.9820 - val_loss: 0.8022 - val_acc: 0.8982\n",
      "Epoch 77/100\n",
      "1330/1330 [==============================] - 137s 103ms/step - loss: 0.3206 - acc: 0.9820 - val_loss: 0.8031 - val_acc: 0.8974\n",
      "Epoch 78/100\n",
      "1330/1330 [==============================] - 137s 103ms/step - loss: 0.3204 - acc: 0.9820 - val_loss: 0.8057 - val_acc: 0.8965\n",
      "Epoch 79/100\n",
      "1330/1330 [==============================] - 137s 103ms/step - loss: 0.3202 - acc: 0.9820 - val_loss: 0.8061 - val_acc: 0.8974\n",
      "Epoch 80/100\n",
      "1330/1330 [==============================] - 136s 103ms/step - loss: 0.3200 - acc: 0.9820 - val_loss: 0.8084 - val_acc: 0.8974\n",
      "Epoch 81/100\n",
      "1330/1330 [==============================] - 134s 101ms/step - loss: 0.3199 - acc: 0.9820 - val_loss: 0.8107 - val_acc: 0.8965\n",
      "Epoch 82/100\n",
      "1330/1330 [==============================] - 135s 102ms/step - loss: 0.3196 - acc: 0.9820 - val_loss: 0.8117 - val_acc: 0.8965\n",
      "Epoch 83/100\n",
      "1330/1330 [==============================] - 132s 99ms/step - loss: 0.3195 - acc: 0.9820 - val_loss: 0.8143 - val_acc: 0.8965\n",
      "Epoch 84/100\n",
      "1330/1330 [==============================] - 135s 101ms/step - loss: 0.3193 - acc: 0.9820 - val_loss: 0.8150 - val_acc: 0.8956\n",
      "Epoch 85/100\n",
      "1330/1330 [==============================] - 128s 96ms/step - loss: 0.3191 - acc: 0.9820 - val_loss: 0.8163 - val_acc: 0.8965\n",
      "Epoch 86/100\n",
      "1330/1330 [==============================] - 116s 87ms/step - loss: 0.3190 - acc: 0.9820 - val_loss: 0.8187 - val_acc: 0.8974\n",
      "Epoch 87/100\n",
      "1330/1330 [==============================] - 131s 99ms/step - loss: 0.3188 - acc: 0.9820 - val_loss: 0.8194 - val_acc: 0.8956\n",
      "Epoch 88/100\n",
      "1330/1330 [==============================] - 126s 95ms/step - loss: 0.3186 - acc: 0.9820 - val_loss: 0.8210 - val_acc: 0.8956\n",
      "Epoch 89/100\n",
      "1330/1330 [==============================] - 129s 97ms/step - loss: 0.3185 - acc: 0.9820 - val_loss: 0.8222 - val_acc: 0.8956\n",
      "Epoch 90/100\n",
      "1330/1330 [==============================] - 127s 96ms/step - loss: 0.3183 - acc: 0.9820 - val_loss: 0.8236 - val_acc: 0.8947\n",
      "Epoch 91/100\n",
      "1330/1330 [==============================] - 124s 94ms/step - loss: 0.3182 - acc: 0.9820 - val_loss: 0.8253 - val_acc: 0.8956\n",
      "Epoch 92/100\n",
      "1330/1330 [==============================] - 135s 102ms/step - loss: 0.3180 - acc: 0.9820 - val_loss: 0.8257 - val_acc: 0.8965\n",
      "Epoch 93/100\n",
      "1330/1330 [==============================] - 137s 103ms/step - loss: 0.3179 - acc: 0.9820 - val_loss: 0.8283 - val_acc: 0.8956\n",
      "Epoch 94/100\n",
      "1330/1330 [==============================] - 134s 101ms/step - loss: 0.3177 - acc: 0.9820 - val_loss: 0.8308 - val_acc: 0.8947\n",
      "Epoch 95/100\n",
      "1330/1330 [==============================] - 139s 104ms/step - loss: 0.3176 - acc: 0.9820 - val_loss: 0.8322 - val_acc: 0.8956\n",
      "Epoch 96/100\n",
      "1330/1330 [==============================] - 135s 102ms/step - loss: 0.3175 - acc: 0.9820 - val_loss: 0.8340 - val_acc: 0.8956\n",
      "Epoch 97/100\n",
      "1330/1330 [==============================] - 134s 101ms/step - loss: 0.3173 - acc: 0.9820 - val_loss: 0.8326 - val_acc: 0.8947\n",
      "Epoch 98/100\n",
      "1330/1330 [==============================] - 125s 94ms/step - loss: 0.3172 - acc: 0.9820 - val_loss: 0.8348 - val_acc: 0.8956\n",
      "Epoch 99/100\n",
      "1330/1330 [==============================] - 133s 100ms/step - loss: 0.3170 - acc: 0.9820 - val_loss: 0.8380 - val_acc: 0.8947\n",
      "Epoch 100/100\n",
      "1330/1330 [==============================] - 123s 92ms/step - loss: 0.3169 - acc: 0.9820 - val_loss: 0.8391 - val_acc: 0.8939\n"
     ]
    }
   ],
   "source": [
    "model = VGG16(input_shape=[224, 224, 1])\n",
    "sgd = SGD(lr=0.0001, nesterov=True)\n",
    "model.compile(loss='categorical_crossentropy', optimizer=sgd, metrics=['accuracy'])\n",
    "history = model.fit(trainMatrix, trainLabel_encode, epochs=100, batch_size=32, \n",
    "                    validation_data=(testMatrix, testLabel_encode), verbose=1)"
   ]
  },
  {
   "cell_type": "code",
   "execution_count": 8,
   "metadata": {},
   "outputs": [
    {
     "data": {
      "image/png": "[encoded data removed]",
      "text/plain": [
       "<Figure size 432x288 with 1 Axes>"
      ]
     },
     "metadata": {},
     "output_type": "display_data"
    }
   ],
   "source": [
    "import matplotlib.pyplot as plt\n",
    "\n",
    "plt.plot(history.history['acc'], 'g', label='train_acc')\n",
    "plt.plot(history.history['val_acc'], 'b', label='val_acc')\n",
    "plt.legend(loc='upper right')\n",
    "plt.title('model accuracy')\n",
    "plt.xlabel('epoch')\n",
    "plt.show()"
   ]
  },
  {
   "cell_type": "code",
   "execution_count": 9,
   "metadata": {},
   "outputs": [
    {
     "data": {
      "image/png": "[encoded data removed]",
      "text/plain": [
       "<Figure size 432x288 with 1 Axes>"
      ]
     },
     "metadata": {},
     "output_type": "display_data"
    }
   ],
   "source": [
    "plt.plot(history.history['loss'], 'g', label='train_loss')\n",
    "plt.plot(history.history['val_loss'], 'b', label='val_loss')\n",
    "plt.legend(loc='upper right')\n",
    "plt.title('model loss')\n",
    "plt.xlabel('epoch')\n",
    "plt.show()"
   ]
  },
  {
   "cell_type": "code",
   "execution_count": 10,
   "metadata": {},
   "outputs": [
    {
     "name": "stdout",
     "output_type": "stream",
     "text": [
      "1140/1140 [==============================] - 35s 31ms/step\n",
      "loss :  0.8390824134804701\n",
      "accuracy :  0.8938596487045288\n"
     ]
    }
   ],
   "source": [
    "loss, acc = model.evaluate(x = testMatrix, y = testLabel_encode, batch_size = 32)\n",
    "print(\"loss : \", loss)\n",
    "print(\"accuracy : \", acc)"
   ]
  },
  {
   "cell_type": "code",
   "execution_count": null,
   "metadata": {},
   "outputs": [],
   "source": []
  }
 ],
 "metadata": {
  "kernelspec": {
   "display_name": "Python 3",
   "language": "python",
   "name": "python3"
  },
  "language_info": {
   "codemirror_mode": {
    "name": "ipython",
    "version": 3
   },
   "file_extension": ".py",
   "mimetype": "text/x-python",
   "name": "python",
   "nbconvert_exporter": "python",
   "pygments_lexer": "ipython3",
   "version": "3.6.5"
  }
 },
 "nbformat": 4,
 "nbformat_minor": 2
}
