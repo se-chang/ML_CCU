{
 "cells": [
  {
   "cell_type": "code",
   "execution_count": 1,
   "metadata": {},
   "outputs": [
    {
     "name": "stderr",
     "output_type": "stream",
     "text": [
      "C:\\Users\\s110024\\AppData\\Local\\conda\\conda\\envs\\ML2018\\lib\\site-packages\\h5py\\__init__.py:36: FutureWarning: Conversion of the second argument of issubdtype from `float` to `np.floating` is deprecated. In future, it will be treated as `np.float64 == np.dtype(float).type`.\n",
      "  from ._conv import register_converters as _register_converters\n",
      "Using TensorFlow backend.\n"
     ]
    },
    {
     "name": "stdout",
     "output_type": "stream",
     "text": [
      "WARNING:tensorflow:From C:\\Users\\s110024\\AppData\\Local\\conda\\conda\\envs\\ML2018\\lib\\site-packages\\tensorflow\\contrib\\learn\\python\\learn\\datasets\\base.py:198: retry (from tensorflow.contrib.learn.python.learn.datasets.base) is deprecated and will be removed in a future version.\n",
      "Instructions for updating:\n",
      "Use the retry module or similar alternatives.\n",
      "curses is not supported on this machine (please install/reinstall curses for an optimal experience)\n"
     ]
    }
   ],
   "source": [
    "import tensorflow as tf\n",
    "import keras.backend.tensorflow_backend as KTF\n",
    "import os\n",
    "import warnings\n",
    "import os, sys\n",
    "import numpy as np\n",
    "import keras\n",
    "import cv2\n",
    "from skimage import io,transform\n",
    "from tflearn.layers.conv import global_avg_pool\n",
    "from keras.models import Model\n",
    "from keras.layers import Input, Dense, Activation, Flatten, Conv2D, MaxPooling2D, AveragePooling2D\n",
    "from keras.layers import GlobalAveragePooling2D, GlobalMaxPooling2D, BatchNormalization\n",
    "from keras.models import Model\n",
    "from keras import layers\n",
    "from keras import backend as K\n",
    "from keras.utils import np_utils\n",
    "from keras.optimizers import SGD\n",
    "from keras.callbacks import Callback\n",
    "from keras.applications.vgg16 import VGG16, preprocess_input\n",
    "import matplotlib.pyplot as plt\n"
   ]
  },
  {
   "cell_type": "code",
   "execution_count": 2,
   "metadata": {},
   "outputs": [],
   "source": [
    "def loading(dirs = os.getcwd()):\n",
    "\n",
    "    trainMatrix = []\n",
    "    trainLabel = []\n",
    "    testMatrix = []\n",
    "    testLabel = []\n",
    "    countOfPeople = 0\n",
    "    for i in range(1, 40):\n",
    "        if i == 14:\n",
    "            continue\n",
    "        file = os.path.join(dirs, 'CroppedYale', 'yaleB%02d' % i, '*.pgm')\n",
    "    \n",
    "        rawImg = io.imread_collection(file)\n",
    "        imgs = np.array([cv2.resize(img, (224,224), interpolation = cv2.INTER_CUBIC) for img in rawImg])\n",
    "        imgs = np.array(imgs, dtype=np.int64)\n",
    "        \n",
    "        rimgs = np.random.permutation(imgs)\n",
    "        rimgs = np.array(rimgs)\n",
    "        \n",
    "        countOfPeople = len(rimgs)\n",
    "        \n",
    "        train = rimgs[0:35]\n",
    "        trainMatrix.append(train)\n",
    "        for j in range(0, 35): trainLabel.append(i)\n",
    "            \n",
    "        test = rimgs[countOfPeople-30:countOfPeople]\n",
    "        testMatrix.append(test)\n",
    "        for j in range(0, 30): testLabel.append(i) \n",
    "\n",
    "        \n",
    "    return trainMatrix, trainLabel, testMatrix, testLabel"
   ]
  },
  {
   "cell_type": "code",
   "execution_count": 3,
   "metadata": {
    "scrolled": true
   },
   "outputs": [
    {
     "name": "stdout",
     "output_type": "stream",
     "text": [
      "TrainCount: 1330\n",
      "TestCount: 1140\n"
     ]
    }
   ],
   "source": [
    "trainMatrix, trainLabel, testMatrix, testLabel = loading(os.getcwd())\n",
    "\n",
    "\n",
    "trainCount = np.size(trainLabel, 0)\n",
    "testCount = np.size(testLabel, 0)\n",
    "\n",
    "trainMatrix = np.array(trainMatrix).reshape(trainCount,224,224,1)\n",
    "\n",
    "# change one channel to three\n",
    "original = trainMatrix\n",
    "trainMatrix = np.resize(trainMatrix,(trainCount,224,224,3))\n",
    "trainMatrix[:,:,:,0:1] = original\n",
    "trainMatrix[:,:,:,1:3] = 0     #channel two and three = 0\n",
    "\n",
    "\n",
    "testMatrix = np.array(testMatrix).reshape(testCount,224,224,1)\n",
    "\n",
    "# change one channel to three\n",
    "original = testMatrix\n",
    "testMatrix = np.resize(testMatrix,(testCount,224,224,3))\n",
    "testMatrix[:,:,:,0:1] = original\n",
    "testMatrix[:,:,:,1:3] = 0\n",
    "\n",
    "\n",
    "\n",
    "print(\"TrainCount: %d\" % trainCount)\n",
    "print(\"TestCount: %d\" % testCount)"
   ]
  },
  {
   "cell_type": "code",
   "execution_count": 4,
   "metadata": {},
   "outputs": [],
   "source": [
    "trainLabel_encode = np_utils.to_categorical(trainLabel, num_classes=40)\n",
    "testLabel_encode = np_utils.to_categorical(testLabel, num_classes=40)"
   ]
  },
  {
   "cell_type": "code",
   "execution_count": 5,
   "metadata": {
    "scrolled": true
   },
   "outputs": [
    {
     "name": "stdout",
     "output_type": "stream",
     "text": [
      "_________________________________________________________________\n",
      "Layer (type)                 Output Shape              Param #   \n",
      "=================================================================\n",
      "input_1 (InputLayer)         (None, 224, 224, 3)       0         \n",
      "_________________________________________________________________\n",
      "block1_conv1 (Conv2D)        (None, 224, 224, 64)      1792      \n",
      "_________________________________________________________________\n",
      "block1_conv2 (Conv2D)        (None, 224, 224, 64)      36928     \n",
      "_________________________________________________________________\n",
      "block1_pool (MaxPooling2D)   (None, 112, 112, 64)      0         \n",
      "_________________________________________________________________\n",
      "block2_conv1 (Conv2D)        (None, 112, 112, 128)     73856     \n",
      "_________________________________________________________________\n",
      "block2_conv2 (Conv2D)        (None, 112, 112, 128)     147584    \n",
      "_________________________________________________________________\n",
      "block2_pool (MaxPooling2D)   (None, 56, 56, 128)       0         \n",
      "_________________________________________________________________\n",
      "block3_conv1 (Conv2D)        (None, 56, 56, 256)       295168    \n",
      "_________________________________________________________________\n",
      "block3_conv2 (Conv2D)        (None, 56, 56, 256)       590080    \n",
      "_________________________________________________________________\n",
      "block3_conv3 (Conv2D)        (None, 56, 56, 256)       590080    \n",
      "_________________________________________________________________\n",
      "block3_pool (MaxPooling2D)   (None, 28, 28, 256)       0         \n",
      "_________________________________________________________________\n",
      "block4_conv1 (Conv2D)        (None, 28, 28, 512)       1180160   \n",
      "_________________________________________________________________\n",
      "block4_conv2 (Conv2D)        (None, 28, 28, 512)       2359808   \n",
      "_________________________________________________________________\n",
      "block4_conv3 (Conv2D)        (None, 28, 28, 512)       2359808   \n",
      "_________________________________________________________________\n",
      "block4_pool (MaxPooling2D)   (None, 14, 14, 512)       0         \n",
      "_________________________________________________________________\n",
      "block5_conv1 (Conv2D)        (None, 14, 14, 512)       2359808   \n",
      "_________________________________________________________________\n",
      "block5_conv2 (Conv2D)        (None, 14, 14, 512)       2359808   \n",
      "_________________________________________________________________\n",
      "block5_conv3 (Conv2D)        (None, 14, 14, 512)       2359808   \n",
      "_________________________________________________________________\n",
      "block5_pool (MaxPooling2D)   (None, 7, 7, 512)         0         \n",
      "_________________________________________________________________\n",
      "block6_conv1 (Conv2D)        (None, 7, 7, 1024)        4719616   \n",
      "_________________________________________________________________\n",
      "block6_conv2 (Conv2D)        (None, 7, 7, 1024)        9438208   \n",
      "_________________________________________________________________\n",
      "block6_conv3 (Conv2D)        (None, 7, 7, 1024)        9438208   \n",
      "_________________________________________________________________\n",
      "block6_pool (MaxPooling2D)   (None, 3, 3, 1024)        0         \n",
      "_________________________________________________________________\n",
      "flatten_1 (Flatten)          (None, 9216)              0         \n",
      "_________________________________________________________________\n",
      "dense_1 (Dense)              (None, 40)                368680    \n",
      "=================================================================\n",
      "Total params: 38,679,400\n",
      "Trainable params: 38,679,400\n",
      "Non-trainable params: 0\n",
      "_________________________________________________________________\n",
      "Train on 1330 samples, validate on 1140 samples\n",
      "Epoch 1/50\n",
      "1330/1330 [==============================] - 70s 53ms/step - loss: 3.9132 - acc: 0.0429 - val_loss: 3.6367 - val_acc: 0.0596\n",
      "Epoch 2/50\n",
      "1330/1330 [==============================] - 54s 41ms/step - loss: 3.4582 - acc: 0.1053 - val_loss: 3.4854 - val_acc: 0.1061\n",
      "Epoch 3/50\n",
      "1330/1330 [==============================] - 54s 41ms/step - loss: 3.1784 - acc: 0.2128 - val_loss: 3.3136 - val_acc: 0.1658\n",
      "Epoch 4/50\n",
      "1330/1330 [==============================] - 54s 41ms/step - loss: 2.8424 - acc: 0.3368 - val_loss: 3.0823 - val_acc: 0.2360\n",
      "Epoch 5/50\n",
      "1330/1330 [==============================] - 54s 40ms/step - loss: 2.4239 - acc: 0.4421 - val_loss: 2.8054 - val_acc: 0.3202\n",
      "Epoch 6/50\n",
      "1330/1330 [==============================] - 54s 41ms/step - loss: 1.9495 - acc: 0.5526 - val_loss: 2.4736 - val_acc: 0.3947\n",
      "Epoch 7/50\n",
      "1330/1330 [==============================] - 54s 41ms/step - loss: 1.4914 - acc: 0.6684 - val_loss: 2.2192 - val_acc: 0.4412\n",
      "Epoch 8/50\n",
      "1330/1330 [==============================] - 54s 41ms/step - loss: 1.0873 - acc: 0.7872 - val_loss: 2.0876 - val_acc: 0.4728\n",
      "Epoch 9/50\n",
      "1330/1330 [==============================] - 54s 41ms/step - loss: 0.7657 - acc: 0.8654 - val_loss: 1.8430 - val_acc: 0.5509\n",
      "Epoch 10/50\n",
      "1330/1330 [==============================] - 54s 41ms/step - loss: 0.5225 - acc: 0.9218 - val_loss: 1.7786 - val_acc: 0.5544\n",
      "Epoch 11/50\n",
      "1330/1330 [==============================] - 54s 41ms/step - loss: 0.3537 - acc: 0.9564 - val_loss: 1.6970 - val_acc: 0.5912\n",
      "Epoch 12/50\n",
      "1330/1330 [==============================] - 54s 41ms/step - loss: 0.2464 - acc: 0.9737 - val_loss: 1.6372 - val_acc: 0.6000\n",
      "Epoch 13/50\n",
      "1330/1330 [==============================] - 54s 41ms/step - loss: 0.1816 - acc: 0.9782 - val_loss: 1.5850 - val_acc: 0.6149\n",
      "Epoch 14/50\n",
      "1330/1330 [==============================] - 54s 41ms/step - loss: 0.1402 - acc: 0.9835 - val_loss: 1.5700 - val_acc: 0.6342\n",
      "Epoch 15/50\n",
      "1330/1330 [==============================] - 54s 41ms/step - loss: 0.1164 - acc: 0.9842 - val_loss: 1.5601 - val_acc: 0.6351\n",
      "Epoch 16/50\n",
      "1330/1330 [==============================] - 54s 41ms/step - loss: 0.1008 - acc: 0.9857 - val_loss: 1.5495 - val_acc: 0.6439\n",
      "Epoch 17/50\n",
      "1330/1330 [==============================] - 54s 41ms/step - loss: 0.0898 - acc: 0.9857 - val_loss: 1.5517 - val_acc: 0.6447\n",
      "Epoch 18/50\n",
      "1330/1330 [==============================] - 54s 41ms/step - loss: 0.0818 - acc: 0.9872 - val_loss: 1.5439 - val_acc: 0.6509\n",
      "Epoch 19/50\n",
      "1330/1330 [==============================] - 54s 41ms/step - loss: 0.0763 - acc: 0.9865 - val_loss: 1.5427 - val_acc: 0.6491\n",
      "Epoch 20/50\n",
      "1330/1330 [==============================] - 54s 41ms/step - loss: 0.0709 - acc: 0.9887 - val_loss: 1.5485 - val_acc: 0.6535\n",
      "Epoch 21/50\n",
      "1330/1330 [==============================] - 54s 41ms/step - loss: 0.0674 - acc: 0.9895 - val_loss: 1.5570 - val_acc: 0.6544\n",
      "Epoch 22/50\n",
      "1330/1330 [==============================] - 54s 41ms/step - loss: 0.0636 - acc: 0.9895 - val_loss: 1.5505 - val_acc: 0.6535\n",
      "Epoch 23/50\n",
      "1330/1330 [==============================] - 54s 41ms/step - loss: 0.0608 - acc: 0.9902 - val_loss: 1.5561 - val_acc: 0.6553\n",
      "Epoch 24/50\n",
      "1330/1330 [==============================] - 54s 41ms/step - loss: 0.0586 - acc: 0.9902 - val_loss: 1.5537 - val_acc: 0.6544\n",
      "Epoch 25/50\n",
      "1330/1330 [==============================] - 54s 41ms/step - loss: 0.0565 - acc: 0.9902 - val_loss: 1.5565 - val_acc: 0.6544\n",
      "Epoch 26/50\n",
      "1330/1330 [==============================] - 54s 41ms/step - loss: 0.0547 - acc: 0.9902 - val_loss: 1.5606 - val_acc: 0.6553\n",
      "Epoch 27/50\n",
      "1330/1330 [==============================] - 54s 41ms/step - loss: 0.0532 - acc: 0.9902 - val_loss: 1.5563 - val_acc: 0.6561\n",
      "Epoch 28/50\n",
      "1330/1330 [==============================] - 54s 41ms/step - loss: 0.0518 - acc: 0.9902 - val_loss: 1.5689 - val_acc: 0.6544\n",
      "Epoch 29/50\n",
      "1330/1330 [==============================] - 54s 41ms/step - loss: 0.0506 - acc: 0.9910 - val_loss: 1.5664 - val_acc: 0.6588\n",
      "Epoch 30/50\n",
      "1330/1330 [==============================] - 54s 41ms/step - loss: 0.0494 - acc: 0.9910 - val_loss: 1.5684 - val_acc: 0.6623\n",
      "Epoch 31/50\n",
      "1330/1330 [==============================] - 54s 41ms/step - loss: 0.0484 - acc: 0.9910 - val_loss: 1.5741 - val_acc: 0.6640\n",
      "Epoch 32/50\n",
      "1330/1330 [==============================] - 54s 41ms/step - loss: 0.0475 - acc: 0.9910 - val_loss: 1.5773 - val_acc: 0.6640\n",
      "Epoch 33/50\n",
      "1330/1330 [==============================] - 54s 41ms/step - loss: 0.0467 - acc: 0.9917 - val_loss: 1.5799 - val_acc: 0.6632\n"
     ]
    },
    {
     "name": "stdout",
     "output_type": "stream",
     "text": [
      "Epoch 34/50\n",
      "1330/1330 [==============================] - 54s 41ms/step - loss: 0.0458 - acc: 0.9917 - val_loss: 1.5805 - val_acc: 0.6684\n",
      "Epoch 35/50\n",
      "1330/1330 [==============================] - 55s 41ms/step - loss: 0.0451 - acc: 0.9917 - val_loss: 1.5855 - val_acc: 0.6632\n",
      "Epoch 36/50\n",
      "1330/1330 [==============================] - 54s 41ms/step - loss: 0.0444 - acc: 0.9917 - val_loss: 1.5869 - val_acc: 0.6658\n",
      "Epoch 37/50\n",
      "1330/1330 [==============================] - 54s 41ms/step - loss: 0.0438 - acc: 0.9917 - val_loss: 1.5880 - val_acc: 0.6667\n",
      "Epoch 38/50\n",
      "1330/1330 [==============================] - 54s 41ms/step - loss: 0.0432 - acc: 0.9925 - val_loss: 1.5989 - val_acc: 0.6623\n",
      "Epoch 39/50\n",
      "1330/1330 [==============================] - 54s 41ms/step - loss: 0.0426 - acc: 0.9932 - val_loss: 1.5985 - val_acc: 0.6640\n",
      "Epoch 40/50\n",
      "1330/1330 [==============================] - 54s 41ms/step - loss: 0.0420 - acc: 0.9932 - val_loss: 1.5991 - val_acc: 0.6649\n",
      "Epoch 41/50\n",
      "1330/1330 [==============================] - 54s 41ms/step - loss: 0.0415 - acc: 0.9932 - val_loss: 1.6048 - val_acc: 0.6640\n",
      "Epoch 42/50\n",
      "1330/1330 [==============================] - 54s 41ms/step - loss: 0.0410 - acc: 0.9932 - val_loss: 1.6057 - val_acc: 0.6667\n",
      "Epoch 43/50\n",
      "1330/1330 [==============================] - 54s 41ms/step - loss: 0.0405 - acc: 0.9932 - val_loss: 1.6091 - val_acc: 0.6658\n",
      "Epoch 44/50\n",
      "1330/1330 [==============================] - 54s 41ms/step - loss: 0.0401 - acc: 0.9932 - val_loss: 1.6152 - val_acc: 0.6658\n",
      "Epoch 45/50\n",
      "1330/1330 [==============================] - 54s 41ms/step - loss: 0.0396 - acc: 0.9932 - val_loss: 1.6160 - val_acc: 0.6658\n",
      "Epoch 46/50\n",
      "1330/1330 [==============================] - 54s 41ms/step - loss: 0.0392 - acc: 0.9940 - val_loss: 1.6185 - val_acc: 0.6658\n",
      "Epoch 47/50\n",
      "1330/1330 [==============================] - 54s 41ms/step - loss: 0.0388 - acc: 0.9940 - val_loss: 1.6231 - val_acc: 0.6684\n",
      "Epoch 48/50\n",
      "1330/1330 [==============================] - 54s 41ms/step - loss: 0.0384 - acc: 0.9940 - val_loss: 1.6270 - val_acc: 0.6693\n",
      "Epoch 49/50\n",
      "1330/1330 [==============================] - 54s 41ms/step - loss: 0.0380 - acc: 0.9940 - val_loss: 1.6324 - val_acc: 0.6693\n",
      "Epoch 50/50\n",
      "1330/1330 [==============================] - 54s 41ms/step - loss: 0.0376 - acc: 0.9940 - val_loss: 1.6331 - val_acc: 0.6684\n"
     ]
    }
   ],
   "source": [
    "vgg = VGG16(weights='model.h5', include_top=False, input_shape=(224, 224, 3))\n",
    "x = vgg.output\n",
    "x = Conv2D(1024, (3, 3), activation='relu', padding='same', name='block6_conv1')(x)\n",
    "x = Conv2D(1024, (3, 3), activation='relu', padding='same', name='block6_conv2')(x)\n",
    "x = Conv2D(1024, (3, 3), activation='relu', padding='same', name='block6_conv3')(x)\n",
    "x = MaxPooling2D((2, 2), strides=(2, 2), name='block6_pool')(x)\n",
    "\n",
    "x = Flatten()(x)\n",
    "x = Dense(40, activation='softmax')(x)\n",
    "\n",
    "model = Model(inputs=vgg.input, outputs=x)\n",
    "model.summary()\n",
    "sgd = SGD(lr=0.0001, nesterov=True)\n",
    "model.compile(loss='categorical_crossentropy', optimizer=sgd, metrics=['accuracy'])\n",
    "history = model.fit(trainMatrix, trainLabel_encode, epochs=50, batch_size=32, \n",
    "                    validation_data=(testMatrix, testLabel_encode), verbose=1)"
   ]
  },
  {
   "cell_type": "code",
   "execution_count": 6,
   "metadata": {},
   "outputs": [
    {
     "data": {
      "image/png": "[encoded data removed]",
      "text/plain": [
       "<Figure size 432x288 with 1 Axes>"
      ]
     },
     "metadata": {},
     "output_type": "display_data"
    }
   ],
   "source": [
    "plt.plot(history.history['acc'], 'g', label='train_acc')\n",
    "plt.plot(history.history['val_acc'], 'b', label='val_acc')\n",
    "plt.legend(loc='upper right')\n",
    "plt.title('model accuracy')\n",
    "plt.xlabel('epoch')\n",
    "plt.show()"
   ]
  },
  {
   "cell_type": "code",
   "execution_count": 7,
   "metadata": {},
   "outputs": [
    {
     "data": {
      "image/png": "[encoded data removed]",
      "text/plain": [
       "<Figure size 432x288 with 1 Axes>"
      ]
     },
     "metadata": {},
     "output_type": "display_data"
    }
   ],
   "source": [
    "plt.plot(history.history['loss'], 'g', label='train_loss')\n",
    "plt.plot(history.history['val_loss'], 'b', label='val_loss')\n",
    "plt.legend(loc='upper right')\n",
    "plt.title('model loss')\n",
    "plt.xlabel('epoch')\n",
    "plt.show()"
   ]
  },
  {
   "cell_type": "code",
   "execution_count": 8,
   "metadata": {},
   "outputs": [
    {
     "name": "stdout",
     "output_type": "stream",
     "text": [
      "1140/1140 [==============================] - 12s 11ms/step\n",
      "loss :  1.6330566192928113\n",
      "accuracy :  0.6684210530498571\n"
     ]
    }
   ],
   "source": [
    "loss, acc = model.evaluate(x = testMatrix, y = testLabel_encode, batch_size = 32)\n",
    "print(\"loss : \", loss)\n",
    "print(\"accuracy : \", acc)"
   ]
  },
  {
   "cell_type": "code",
   "execution_count": null,
   "metadata": {},
   "outputs": [],
   "source": []
  }
 ],
 "metadata": {
  "kernelspec": {
   "display_name": "Python 3",
   "language": "python",
   "name": "python3"
  },
  "language_info": {
   "codemirror_mode": {
    "name": "ipython",
    "version": 3
   },
   "file_extension": ".py",
   "mimetype": "text/x-python",
   "name": "python",
   "nbconvert_exporter": "python",
   "pygments_lexer": "ipython3",
   "version": "3.6.5"
  }
 },
 "nbformat": 4,
 "nbformat_minor": 2
}
