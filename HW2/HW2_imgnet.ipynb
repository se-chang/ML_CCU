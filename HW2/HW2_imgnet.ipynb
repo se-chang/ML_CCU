{
 "cells": [
  {
   "cell_type": "code",
   "execution_count": 1,
   "metadata": {},
   "outputs": [
    {
     "name": "stderr",
     "output_type": "stream",
     "text": [
      "C:\\Users\\s110024\\AppData\\Local\\conda\\conda\\envs\\ML2018\\lib\\site-packages\\h5py\\__init__.py:36: FutureWarning: Conversion of the second argument of issubdtype from `float` to `np.floating` is deprecated. In future, it will be treated as `np.float64 == np.dtype(float).type`.\n",
      "  from ._conv import register_converters as _register_converters\n",
      "Using TensorFlow backend.\n"
     ]
    },
    {
     "name": "stdout",
     "output_type": "stream",
     "text": [
      "WARNING:tensorflow:From C:\\Users\\s110024\\AppData\\Local\\conda\\conda\\envs\\ML2018\\lib\\site-packages\\tensorflow\\contrib\\learn\\python\\learn\\datasets\\base.py:198: retry (from tensorflow.contrib.learn.python.learn.datasets.base) is deprecated and will be removed in a future version.\n",
      "Instructions for updating:\n",
      "Use the retry module or similar alternatives.\n",
      "curses is not supported on this machine (please install/reinstall curses for an optimal experience)\n"
     ]
    }
   ],
   "source": [
    "import tensorflow as tf\n",
    "import keras.backend.tensorflow_backend as KTF\n",
    "import os\n",
    "import warnings\n",
    "import os, sys\n",
    "import numpy as np\n",
    "import keras\n",
    "import cv2\n",
    "from skimage import io,transform\n",
    "from tflearn.layers.conv import global_avg_pool\n",
    "from keras.models import Model\n",
    "from keras.layers import Input, Dense, Activation, Flatten, Conv2D, MaxPooling2D, AveragePooling2D\n",
    "from keras.layers import GlobalAveragePooling2D, GlobalMaxPooling2D, BatchNormalization\n",
    "from keras.models import Model\n",
    "from keras import layers\n",
    "from keras import backend as K\n",
    "from keras.utils import np_utils\n",
    "from keras.optimizers import SGD\n",
    "from keras.callbacks import Callback\n",
    "from keras.applications.vgg16 import VGG16, preprocess_input\n",
    "import matplotlib.pyplot as plt\n"
   ]
  },
  {
   "cell_type": "code",
   "execution_count": 2,
   "metadata": {},
   "outputs": [],
   "source": [
    "def loading(dirs = os.getcwd()):\n",
    "\n",
    "    trainMatrix = []\n",
    "    trainLabel = []\n",
    "    testMatrix = []\n",
    "    testLabel = []\n",
    "    countOfPeople = 0\n",
    "    for i in range(1, 40):\n",
    "        if i == 14:\n",
    "            continue\n",
    "        file = os.path.join(dirs, 'CroppedYale', 'yaleB%02d' % i, '*.pgm')\n",
    "    \n",
    "        rawImg = io.imread_collection(file)\n",
    "        imgs = np.array([cv2.resize(img, (224,224), interpolation = cv2.INTER_CUBIC) for img in rawImg])\n",
    "        imgs = np.array(imgs, dtype=np.int64)\n",
    "        \n",
    "        rimgs = np.random.permutation(imgs)\n",
    "        rimgs = np.array(rimgs)\n",
    "        \n",
    "        countOfPeople = len(rimgs)\n",
    "        \n",
    "        train = rimgs[0:35]\n",
    "        trainMatrix.append(train)\n",
    "        for j in range(0, 35): trainLabel.append(i)\n",
    "            \n",
    "        test = rimgs[countOfPeople-30:countOfPeople]\n",
    "        testMatrix.append(test)\n",
    "        for j in range(0, 30): testLabel.append(i) \n",
    "\n",
    "        \n",
    "    return trainMatrix, trainLabel, testMatrix, testLabel"
   ]
  },
  {
   "cell_type": "code",
   "execution_count": 3,
   "metadata": {
    "scrolled": true
   },
   "outputs": [
    {
     "name": "stdout",
     "output_type": "stream",
     "text": [
      "TrainCount: 1330\n",
      "TestCount: 1140\n"
     ]
    }
   ],
   "source": [
    "trainMatrix, trainLabel, testMatrix, testLabel = loading(os.getcwd())\n",
    "\n",
    "\n",
    "trainCount = np.size(trainLabel, 0)\n",
    "testCount = np.size(testLabel, 0)\n",
    "\n",
    "trainMatrix = np.array(trainMatrix).reshape(trainCount,224,224,1)\n",
    "\n",
    "# change one channel to three\n",
    "original = trainMatrix\n",
    "trainMatrix = np.resize(trainMatrix,(trainCount,224,224,3))\n",
    "trainMatrix[:,:,:,0:1] = original\n",
    "trainMatrix[:,:,:,1:3] = 0     #channel two and three = 0\n",
    "\n",
    "\n",
    "testMatrix = np.array(testMatrix).reshape(testCount,224,224,1)\n",
    "\n",
    "# change one channel to three\n",
    "original = testMatrix\n",
    "testMatrix = np.resize(testMatrix,(testCount,224,224,3))\n",
    "testMatrix[:,:,:,0:1] = original\n",
    "testMatrix[:,:,:,1:3] = 0\n",
    "\n",
    "\n",
    "\n",
    "print(\"TrainCount: %d\" % trainCount)\n",
    "print(\"TestCount: %d\" % testCount)"
   ]
  },
  {
   "cell_type": "code",
   "execution_count": 4,
   "metadata": {},
   "outputs": [],
   "source": [
    "trainLabel_encode = np_utils.to_categorical(trainLabel, num_classes=40)\n",
    "testLabel_encode = np_utils.to_categorical(testLabel, num_classes=40)"
   ]
  },
  {
   "cell_type": "code",
   "execution_count": 5,
   "metadata": {
    "scrolled": true
   },
   "outputs": [
    {
     "name": "stdout",
     "output_type": "stream",
     "text": [
      "_________________________________________________________________\n",
      "Layer (type)                 Output Shape              Param #   \n",
      "=================================================================\n",
      "input_1 (InputLayer)         (None, 224, 224, 3)       0         \n",
      "_________________________________________________________________\n",
      "block1_conv1 (Conv2D)        (None, 224, 224, 64)      1792      \n",
      "_________________________________________________________________\n",
      "block1_conv2 (Conv2D)        (None, 224, 224, 64)      36928     \n",
      "_________________________________________________________________\n",
      "block1_pool (MaxPooling2D)   (None, 112, 112, 64)      0         \n",
      "_________________________________________________________________\n",
      "block2_conv1 (Conv2D)        (None, 112, 112, 128)     73856     \n",
      "_________________________________________________________________\n",
      "block2_conv2 (Conv2D)        (None, 112, 112, 128)     147584    \n",
      "_________________________________________________________________\n",
      "block2_pool (MaxPooling2D)   (None, 56, 56, 128)       0         \n",
      "_________________________________________________________________\n",
      "block3_conv1 (Conv2D)        (None, 56, 56, 256)       295168    \n",
      "_________________________________________________________________\n",
      "block3_conv2 (Conv2D)        (None, 56, 56, 256)       590080    \n",
      "_________________________________________________________________\n",
      "block3_conv3 (Conv2D)        (None, 56, 56, 256)       590080    \n",
      "_________________________________________________________________\n",
      "block3_pool (MaxPooling2D)   (None, 28, 28, 256)       0         \n",
      "_________________________________________________________________\n",
      "block4_conv1 (Conv2D)        (None, 28, 28, 512)       1180160   \n",
      "_________________________________________________________________\n",
      "block4_conv2 (Conv2D)        (None, 28, 28, 512)       2359808   \n",
      "_________________________________________________________________\n",
      "block4_conv3 (Conv2D)        (None, 28, 28, 512)       2359808   \n",
      "_________________________________________________________________\n",
      "block4_pool (MaxPooling2D)   (None, 14, 14, 512)       0         \n",
      "_________________________________________________________________\n",
      "block5_conv1 (Conv2D)        (None, 14, 14, 512)       2359808   \n",
      "_________________________________________________________________\n",
      "block5_conv2 (Conv2D)        (None, 14, 14, 512)       2359808   \n",
      "_________________________________________________________________\n",
      "block5_conv3 (Conv2D)        (None, 14, 14, 512)       2359808   \n",
      "_________________________________________________________________\n",
      "block5_pool (MaxPooling2D)   (None, 7, 7, 512)         0         \n",
      "_________________________________________________________________\n",
      "flatten_1 (Flatten)          (None, 25088)             0         \n",
      "_________________________________________________________________\n",
      "dense_1 (Dense)              (None, 40)                1003560   \n",
      "=================================================================\n",
      "Total params: 15,718,248\n",
      "Trainable params: 15,718,248\n",
      "Non-trainable params: 0\n",
      "_________________________________________________________________\n",
      "Train on 1330 samples, validate on 1140 samples\n",
      "Epoch 1/50\n",
      "1330/1330 [==============================] - 63s 47ms/step - loss: 4.4896 - acc: 0.0549 - val_loss: 3.6597 - val_acc: 0.0912\n",
      "Epoch 2/50\n",
      "1330/1330 [==============================] - 49s 37ms/step - loss: 3.3149 - acc: 0.1586 - val_loss: 3.2347 - val_acc: 0.1921\n",
      "Epoch 3/50\n",
      "1330/1330 [==============================] - 49s 37ms/step - loss: 2.7988 - acc: 0.2955 - val_loss: 2.7993 - val_acc: 0.3079\n",
      "Epoch 4/50\n",
      "1330/1330 [==============================] - 49s 37ms/step - loss: 2.2690 - acc: 0.4376 - val_loss: 2.4333 - val_acc: 0.4000\n",
      "Epoch 5/50\n",
      "1330/1330 [==============================] - 49s 37ms/step - loss: 1.7725 - acc: 0.5511 - val_loss: 2.0027 - val_acc: 0.5140\n",
      "Epoch 6/50\n",
      "1330/1330 [==============================] - 49s 37ms/step - loss: 1.3657 - acc: 0.6534 - val_loss: 1.7249 - val_acc: 0.5719\n",
      "Epoch 7/50\n",
      "1330/1330 [==============================] - 49s 37ms/step - loss: 1.0369 - acc: 0.7609 - val_loss: 1.5394 - val_acc: 0.6237\n",
      "Epoch 8/50\n",
      "1330/1330 [==============================] - 49s 37ms/step - loss: 0.7906 - acc: 0.8173 - val_loss: 1.3728 - val_acc: 0.6702\n",
      "Epoch 9/50\n",
      "1330/1330 [==============================] - 49s 37ms/step - loss: 0.5983 - acc: 0.8707 - val_loss: 1.2768 - val_acc: 0.6904\n",
      "Epoch 10/50\n",
      "1330/1330 [==============================] - 49s 37ms/step - loss: 0.4536 - acc: 0.9120 - val_loss: 1.1865 - val_acc: 0.7237\n",
      "Epoch 11/50\n",
      "1330/1330 [==============================] - 49s 37ms/step - loss: 0.3401 - acc: 0.9474 - val_loss: 1.1454 - val_acc: 0.7447\n",
      "Epoch 12/50\n",
      "1330/1330 [==============================] - 49s 37ms/step - loss: 0.2585 - acc: 0.9602 - val_loss: 1.1079 - val_acc: 0.7456\n",
      "Epoch 13/50\n",
      "1330/1330 [==============================] - 49s 37ms/step - loss: 0.1972 - acc: 0.9759 - val_loss: 1.0628 - val_acc: 0.7632\n",
      "Epoch 14/50\n",
      "1330/1330 [==============================] - 49s 37ms/step - loss: 0.1523 - acc: 0.9820 - val_loss: 1.0847 - val_acc: 0.7623\n",
      "Epoch 15/50\n",
      "1330/1330 [==============================] - 49s 37ms/step - loss: 0.1236 - acc: 0.9880 - val_loss: 1.0432 - val_acc: 0.7737\n",
      "Epoch 16/50\n",
      "1330/1330 [==============================] - 49s 37ms/step - loss: 0.0992 - acc: 0.9910 - val_loss: 1.0656 - val_acc: 0.7711\n",
      "Epoch 17/50\n",
      "1330/1330 [==============================] - 49s 37ms/step - loss: 0.0837 - acc: 0.9917 - val_loss: 1.0388 - val_acc: 0.7789\n",
      "Epoch 18/50\n",
      "1330/1330 [==============================] - 49s 37ms/step - loss: 0.0712 - acc: 0.9940 - val_loss: 1.0449 - val_acc: 0.7807\n",
      "Epoch 19/50\n",
      "1330/1330 [==============================] - 49s 37ms/step - loss: 0.0622 - acc: 0.9947 - val_loss: 1.0457 - val_acc: 0.7842\n",
      "Epoch 20/50\n",
      "1330/1330 [==============================] - 49s 37ms/step - loss: 0.0553 - acc: 0.9947 - val_loss: 1.0463 - val_acc: 0.7825\n",
      "Epoch 21/50\n",
      "1330/1330 [==============================] - 49s 37ms/step - loss: 0.0501 - acc: 0.9955 - val_loss: 1.0653 - val_acc: 0.7886\n",
      "Epoch 22/50\n",
      "1330/1330 [==============================] - 49s 37ms/step - loss: 0.0460 - acc: 0.9955 - val_loss: 1.0598 - val_acc: 0.7877\n",
      "Epoch 23/50\n",
      "1330/1330 [==============================] - 49s 37ms/step - loss: 0.0425 - acc: 0.9955 - val_loss: 1.0593 - val_acc: 0.7904\n",
      "Epoch 24/50\n",
      "1330/1330 [==============================] - 49s 37ms/step - loss: 0.0396 - acc: 0.9955 - val_loss: 1.0661 - val_acc: 0.7886\n",
      "Epoch 25/50\n",
      "1330/1330 [==============================] - 49s 37ms/step - loss: 0.0373 - acc: 0.9955 - val_loss: 1.0692 - val_acc: 0.7886\n",
      "Epoch 26/50\n",
      "1330/1330 [==============================] - 49s 37ms/step - loss: 0.0352 - acc: 0.9955 - val_loss: 1.0726 - val_acc: 0.7886\n",
      "Epoch 27/50\n",
      "1330/1330 [==============================] - 49s 37ms/step - loss: 0.0335 - acc: 0.9955 - val_loss: 1.0762 - val_acc: 0.7912\n",
      "Epoch 28/50\n",
      "1330/1330 [==============================] - 49s 37ms/step - loss: 0.0319 - acc: 0.9955 - val_loss: 1.0766 - val_acc: 0.7912\n",
      "Epoch 29/50\n",
      "1330/1330 [==============================] - 49s 37ms/step - loss: 0.0305 - acc: 0.9955 - val_loss: 1.0795 - val_acc: 0.7930\n",
      "Epoch 30/50\n",
      "1330/1330 [==============================] - 49s 37ms/step - loss: 0.0293 - acc: 0.9955 - val_loss: 1.0853 - val_acc: 0.7956\n",
      "Epoch 31/50\n",
      "1330/1330 [==============================] - 49s 37ms/step - loss: 0.0282 - acc: 0.9955 - val_loss: 1.0893 - val_acc: 0.7947\n",
      "Epoch 32/50\n",
      "1330/1330 [==============================] - 49s 37ms/step - loss: 0.0272 - acc: 0.9955 - val_loss: 1.0861 - val_acc: 0.7947\n",
      "Epoch 33/50\n",
      "1330/1330 [==============================] - 49s 37ms/step - loss: 0.0263 - acc: 0.9955 - val_loss: 1.0907 - val_acc: 0.7974\n",
      "Epoch 34/50\n",
      "1330/1330 [==============================] - 49s 37ms/step - loss: 0.0254 - acc: 0.9962 - val_loss: 1.0947 - val_acc: 0.7982\n",
      "Epoch 35/50\n",
      "1330/1330 [==============================] - 49s 37ms/step - loss: 0.0247 - acc: 0.9962 - val_loss: 1.1010 - val_acc: 0.7982\n",
      "Epoch 36/50\n",
      "1330/1330 [==============================] - 49s 37ms/step - loss: 0.0240 - acc: 0.9962 - val_loss: 1.0967 - val_acc: 0.7974\n",
      "Epoch 37/50\n",
      "1330/1330 [==============================] - 49s 37ms/step - loss: 0.0233 - acc: 0.9962 - val_loss: 1.1036 - val_acc: 0.7974\n"
     ]
    },
    {
     "name": "stdout",
     "output_type": "stream",
     "text": [
      "Epoch 38/50\n",
      "1330/1330 [==============================] - 49s 37ms/step - loss: 0.0227 - acc: 0.9962 - val_loss: 1.1079 - val_acc: 0.7991\n",
      "Epoch 39/50\n",
      "1330/1330 [==============================] - 49s 37ms/step - loss: 0.0221 - acc: 0.9962 - val_loss: 1.1086 - val_acc: 0.7974\n",
      "Epoch 40/50\n",
      "1330/1330 [==============================] - 49s 37ms/step - loss: 0.0216 - acc: 0.9962 - val_loss: 1.1105 - val_acc: 0.7974\n",
      "Epoch 41/50\n",
      "1330/1330 [==============================] - 49s 37ms/step - loss: 0.0211 - acc: 0.9962 - val_loss: 1.1124 - val_acc: 0.7965\n",
      "Epoch 42/50\n",
      "1330/1330 [==============================] - 49s 37ms/step - loss: 0.0206 - acc: 0.9962 - val_loss: 1.1135 - val_acc: 0.7974\n",
      "Epoch 43/50\n",
      "1330/1330 [==============================] - 49s 37ms/step - loss: 0.0202 - acc: 0.9970 - val_loss: 1.1175 - val_acc: 0.7982\n",
      "Epoch 44/50\n",
      "1330/1330 [==============================] - 49s 37ms/step - loss: 0.0197 - acc: 0.9970 - val_loss: 1.1210 - val_acc: 0.7991\n",
      "Epoch 45/50\n",
      "1330/1330 [==============================] - 49s 37ms/step - loss: 0.0193 - acc: 0.9970 - val_loss: 1.1232 - val_acc: 0.7982\n",
      "Epoch 46/50\n",
      "1330/1330 [==============================] - 49s 37ms/step - loss: 0.0189 - acc: 0.9970 - val_loss: 1.1274 - val_acc: 0.7974\n",
      "Epoch 47/50\n",
      "1330/1330 [==============================] - 49s 37ms/step - loss: 0.0185 - acc: 0.9970 - val_loss: 1.1266 - val_acc: 0.7965\n",
      "Epoch 48/50\n",
      "1330/1330 [==============================] - 49s 37ms/step - loss: 0.0181 - acc: 0.9970 - val_loss: 1.1280 - val_acc: 0.7974\n",
      "Epoch 49/50\n",
      "1330/1330 [==============================] - 49s 37ms/step - loss: 0.0178 - acc: 0.9970 - val_loss: 1.1328 - val_acc: 0.7974\n",
      "Epoch 50/50\n",
      "1330/1330 [==============================] - 49s 37ms/step - loss: 0.0174 - acc: 0.9970 - val_loss: 1.1361 - val_acc: 0.7974\n"
     ]
    }
   ],
   "source": [
    "vgg = VGG16(weights='imagenet', include_top=False, input_shape=(224, 224, 3))\n",
    "x = vgg.output\n",
    "x = Flatten()(x)\n",
    "x = Dense(40, activation='softmax')(x)\n",
    "\n",
    "model = Model(inputs=vgg.input, outputs=x)\n",
    "model.summary()\n",
    "sgd = SGD(lr=0.0001, nesterov=True)\n",
    "model.compile(loss='categorical_crossentropy', optimizer=sgd, metrics=['accuracy'])\n",
    "history = model.fit(trainMatrix, trainLabel_encode, epochs=50, batch_size=32, \n",
    "                    validation_data=(testMatrix, testLabel_encode), verbose=1)"
   ]
  },
  {
   "cell_type": "code",
   "execution_count": 6,
   "metadata": {},
   "outputs": [
    {
     "data": {
      "image/png": "[encoded data removed]",
      "text/plain": [
       "<Figure size 432x288 with 1 Axes>"
      ]
     },
     "metadata": {},
     "output_type": "display_data"
    }
   ],
   "source": [
    "plt.plot(history.history['acc'], 'g', label='train_acc')\n",
    "plt.plot(history.history['val_acc'], 'b', label='val_acc')\n",
    "plt.legend(loc='upper right')\n",
    "plt.title('model accuracy')\n",
    "plt.xlabel('epoch')\n",
    "plt.show()"
   ]
  },
  {
   "cell_type": "code",
   "execution_count": 7,
   "metadata": {},
   "outputs": [
    {
     "data": {
      "image/png": "[encoded data removed]",
      "text/plain": [
       "<Figure size 432x288 with 1 Axes>"
      ]
     },
     "metadata": {},
     "output_type": "display_data"
    }
   ],
   "source": [
    "plt.plot(history.history['loss'], 'g', label='train_loss')\n",
    "plt.plot(history.history['val_loss'], 'b', label='val_loss')\n",
    "plt.legend(loc='upper right')\n",
    "plt.title('model loss')\n",
    "plt.xlabel('epoch')\n",
    "plt.show()"
   ]
  },
  {
   "cell_type": "code",
   "execution_count": 8,
   "metadata": {},
   "outputs": [
    {
     "name": "stdout",
     "output_type": "stream",
     "text": [
      "1140/1140 [==============================] - 11s 10ms/step\n",
      "loss :  1.1360951570042392\n",
      "accuracy :  0.7973684214709098\n"
     ]
    }
   ],
   "source": [
    "loss, acc = model.evaluate(x = testMatrix, y = testLabel_encode, batch_size = 32)\n",
    "print(\"loss : \", loss)\n",
    "print(\"accuracy : \", acc)"
   ]
  },
  {
   "cell_type": "code",
   "execution_count": null,
   "metadata": {},
   "outputs": [],
   "source": []
  }
 ],
 "metadata": {
  "kernelspec": {
   "display_name": "Python 3",
   "language": "python",
   "name": "python3"
  },
  "language_info": {
   "codemirror_mode": {
    "name": "ipython",
    "version": 3
   },
   "file_extension": ".py",
   "mimetype": "text/x-python",
   "name": "python",
   "nbconvert_exporter": "python",
   "pygments_lexer": "ipython3",
   "version": "3.6.5"
  }
 },
 "nbformat": 4,
 "nbformat_minor": 2
}
